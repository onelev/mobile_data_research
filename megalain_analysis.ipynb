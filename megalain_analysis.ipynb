{
 "cells": [
  {
   "cell_type": "markdown",
   "id": "f1ef65d4",
   "metadata": {},
   "source": [
    "**АНАЛИЗ ПОВЕДЕНИЯ ПОЛЬЗОВАТЕЛЕЙ СЕТИ МЕГАЛАЙН**"
   ]
  },
  {
   "cell_type": "markdown",
   "id": "073e36fe",
   "metadata": {},
   "source": [
    "### **Описание данных:**\n",
    "\n",
    "* Таблица users (информация о пользователях):\n",
    "* Таблица calls (информация о звонках):\n",
    "* Таблица messages (информация о сообщениях):\n",
    "* Таблица internet (информация об интернет-сессиях):\n",
    "* Таблица tariffs (информация о тарифах):"
   ]
  },
  {
   "cell_type": "markdown",
   "id": "4ec68c8d",
   "metadata": {},
   "source": [
    "## Предобработка данных"
   ]
  },
  {
   "cell_type": "code",
   "execution_count": 1,
   "id": "46a10591",
   "metadata": {},
   "outputs": [],
   "source": [
    "# импортируем библиотеки\n",
    "import pandas as pd\n",
    "import matplotlib.pyplot as plt\n",
    "from scipy import stats as st\n",
    "import seaborn as sns\n",
    "import math\n",
    "import numpy as np\n",
    "import datetime"
   ]
  },
  {
   "cell_type": "markdown",
   "id": "19c2f0ad",
   "metadata": {},
   "source": [
    "### **Таблица USERS**"
   ]
  },
  {
   "cell_type": "code",
   "execution_count": 2,
   "id": "95fbc16f",
   "metadata": {},
   "outputs": [
    {
     "data": {
      "text/html": [
       "<div>\n",
       "<style scoped>\n",
       "    .dataframe tbody tr th:only-of-type {\n",
       "        vertical-align: middle;\n",
       "    }\n",
       "\n",
       "    .dataframe tbody tr th {\n",
       "        vertical-align: top;\n",
       "    }\n",
       "\n",
       "    .dataframe thead th {\n",
       "        text-align: right;\n",
       "    }\n",
       "</style>\n",
       "<table border=\"1\" class=\"dataframe\">\n",
       "  <thead>\n",
       "    <tr style=\"text-align: right;\">\n",
       "      <th></th>\n",
       "      <th>user_id</th>\n",
       "      <th>age</th>\n",
       "      <th>churn_date</th>\n",
       "      <th>city</th>\n",
       "      <th>first_name</th>\n",
       "      <th>last_name</th>\n",
       "      <th>reg_date</th>\n",
       "      <th>tariff</th>\n",
       "    </tr>\n",
       "  </thead>\n",
       "  <tbody>\n",
       "    <tr>\n",
       "      <th>0</th>\n",
       "      <td>1000</td>\n",
       "      <td>52</td>\n",
       "      <td>NaN</td>\n",
       "      <td>Краснодар</td>\n",
       "      <td>Рафаил</td>\n",
       "      <td>Верещагин</td>\n",
       "      <td>2018-05-25</td>\n",
       "      <td>ultra</td>\n",
       "    </tr>\n",
       "    <tr>\n",
       "      <th>1</th>\n",
       "      <td>1001</td>\n",
       "      <td>41</td>\n",
       "      <td>NaN</td>\n",
       "      <td>Москва</td>\n",
       "      <td>Иван</td>\n",
       "      <td>Ежов</td>\n",
       "      <td>2018-11-01</td>\n",
       "      <td>smart</td>\n",
       "    </tr>\n",
       "    <tr>\n",
       "      <th>2</th>\n",
       "      <td>1002</td>\n",
       "      <td>59</td>\n",
       "      <td>NaN</td>\n",
       "      <td>Стерлитамак</td>\n",
       "      <td>Евгений</td>\n",
       "      <td>Абрамович</td>\n",
       "      <td>2018-06-17</td>\n",
       "      <td>smart</td>\n",
       "    </tr>\n",
       "    <tr>\n",
       "      <th>3</th>\n",
       "      <td>1003</td>\n",
       "      <td>23</td>\n",
       "      <td>NaN</td>\n",
       "      <td>Москва</td>\n",
       "      <td>Белла</td>\n",
       "      <td>Белякова</td>\n",
       "      <td>2018-08-17</td>\n",
       "      <td>ultra</td>\n",
       "    </tr>\n",
       "    <tr>\n",
       "      <th>4</th>\n",
       "      <td>1004</td>\n",
       "      <td>68</td>\n",
       "      <td>NaN</td>\n",
       "      <td>Новокузнецк</td>\n",
       "      <td>Татьяна</td>\n",
       "      <td>Авдеенко</td>\n",
       "      <td>2018-05-14</td>\n",
       "      <td>ultra</td>\n",
       "    </tr>\n",
       "  </tbody>\n",
       "</table>\n",
       "</div>"
      ],
      "text/plain": [
       "   user_id  age churn_date         city first_name  last_name    reg_date  \\\n",
       "0     1000   52        NaN    Краснодар     Рафаил  Верещагин  2018-05-25   \n",
       "1     1001   41        NaN       Москва       Иван       Ежов  2018-11-01   \n",
       "2     1002   59        NaN  Стерлитамак    Евгений  Абрамович  2018-06-17   \n",
       "3     1003   23        NaN       Москва      Белла   Белякова  2018-08-17   \n",
       "4     1004   68        NaN  Новокузнецк    Татьяна   Авдеенко  2018-05-14   \n",
       "\n",
       "  tariff  \n",
       "0  ultra  \n",
       "1  smart  \n",
       "2  smart  \n",
       "3  ultra  \n",
       "4  ultra  "
      ]
     },
     "execution_count": 2,
     "metadata": {},
     "output_type": "execute_result"
    }
   ],
   "source": [
    "# откроем первую таблицу\n",
    "try:\n",
    "    users = pd.read_csv('/--')\n",
    "except:\n",
    "    users = pd.read_csv('/path')\n",
    "users.head()"
   ]
  },
  {
   "cell_type": "code",
   "execution_count": 3,
   "id": "53515cfb",
   "metadata": {},
   "outputs": [
    {
     "name": "stdout",
     "output_type": "stream",
     "text": [
      "<class 'pandas.core.frame.DataFrame'>\n",
      "RangeIndex: 500 entries, 0 to 499\n",
      "Data columns (total 8 columns):\n",
      " #   Column      Non-Null Count  Dtype \n",
      "---  ------      --------------  ----- \n",
      " 0   user_id     500 non-null    int64 \n",
      " 1   age         500 non-null    int64 \n",
      " 2   churn_date  38 non-null     object\n",
      " 3   city        500 non-null    object\n",
      " 4   first_name  500 non-null    object\n",
      " 5   last_name   500 non-null    object\n",
      " 6   reg_date    500 non-null    object\n",
      " 7   tariff      500 non-null    object\n",
      "dtypes: int64(2), object(6)\n",
      "memory usage: 31.4+ KB\n"
     ]
    }
   ],
   "source": [
    "# просмотри содержание таблицы\n",
    "users.info()"
   ]
  },
  {
   "cell_type": "code",
   "execution_count": 4,
   "id": "460ddb62",
   "metadata": {},
   "outputs": [],
   "source": [
    "# изменю тип данных для столбца с датой\n",
    "users['month'] = (pd.to_datetime(users['reg_date'], format='%Y-%m-%d')).dt.month"
   ]
  },
  {
   "cell_type": "code",
   "execution_count": 5,
   "id": "9280e852",
   "metadata": {},
   "outputs": [
    {
     "data": {
      "text/html": [
       "<div>\n",
       "<style scoped>\n",
       "    .dataframe tbody tr th:only-of-type {\n",
       "        vertical-align: middle;\n",
       "    }\n",
       "\n",
       "    .dataframe tbody tr th {\n",
       "        vertical-align: top;\n",
       "    }\n",
       "\n",
       "    .dataframe thead th {\n",
       "        text-align: right;\n",
       "    }\n",
       "</style>\n",
       "<table border=\"1\" class=\"dataframe\">\n",
       "  <thead>\n",
       "    <tr style=\"text-align: right;\">\n",
       "      <th></th>\n",
       "      <th>user_id</th>\n",
       "      <th>age</th>\n",
       "      <th>churn_date</th>\n",
       "      <th>city</th>\n",
       "      <th>first_name</th>\n",
       "      <th>last_name</th>\n",
       "      <th>reg_date</th>\n",
       "      <th>tariff</th>\n",
       "      <th>month</th>\n",
       "    </tr>\n",
       "  </thead>\n",
       "  <tbody>\n",
       "    <tr>\n",
       "      <th>0</th>\n",
       "      <td>1000</td>\n",
       "      <td>52</td>\n",
       "      <td>NaN</td>\n",
       "      <td>Краснодар</td>\n",
       "      <td>Рафаил</td>\n",
       "      <td>Верещагин</td>\n",
       "      <td>2018-05-25</td>\n",
       "      <td>ultra</td>\n",
       "      <td>5</td>\n",
       "    </tr>\n",
       "    <tr>\n",
       "      <th>1</th>\n",
       "      <td>1001</td>\n",
       "      <td>41</td>\n",
       "      <td>NaN</td>\n",
       "      <td>Москва</td>\n",
       "      <td>Иван</td>\n",
       "      <td>Ежов</td>\n",
       "      <td>2018-11-01</td>\n",
       "      <td>smart</td>\n",
       "      <td>11</td>\n",
       "    </tr>\n",
       "    <tr>\n",
       "      <th>2</th>\n",
       "      <td>1002</td>\n",
       "      <td>59</td>\n",
       "      <td>NaN</td>\n",
       "      <td>Стерлитамак</td>\n",
       "      <td>Евгений</td>\n",
       "      <td>Абрамович</td>\n",
       "      <td>2018-06-17</td>\n",
       "      <td>smart</td>\n",
       "      <td>6</td>\n",
       "    </tr>\n",
       "    <tr>\n",
       "      <th>3</th>\n",
       "      <td>1003</td>\n",
       "      <td>23</td>\n",
       "      <td>NaN</td>\n",
       "      <td>Москва</td>\n",
       "      <td>Белла</td>\n",
       "      <td>Белякова</td>\n",
       "      <td>2018-08-17</td>\n",
       "      <td>ultra</td>\n",
       "      <td>8</td>\n",
       "    </tr>\n",
       "    <tr>\n",
       "      <th>4</th>\n",
       "      <td>1004</td>\n",
       "      <td>68</td>\n",
       "      <td>NaN</td>\n",
       "      <td>Новокузнецк</td>\n",
       "      <td>Татьяна</td>\n",
       "      <td>Авдеенко</td>\n",
       "      <td>2018-05-14</td>\n",
       "      <td>ultra</td>\n",
       "      <td>5</td>\n",
       "    </tr>\n",
       "  </tbody>\n",
       "</table>\n",
       "</div>"
      ],
      "text/plain": [
       "   user_id  age churn_date         city first_name  last_name    reg_date  \\\n",
       "0     1000   52        NaN    Краснодар     Рафаил  Верещагин  2018-05-25   \n",
       "1     1001   41        NaN       Москва       Иван       Ежов  2018-11-01   \n",
       "2     1002   59        NaN  Стерлитамак    Евгений  Абрамович  2018-06-17   \n",
       "3     1003   23        NaN       Москва      Белла   Белякова  2018-08-17   \n",
       "4     1004   68        NaN  Новокузнецк    Татьяна   Авдеенко  2018-05-14   \n",
       "\n",
       "  tariff  month  \n",
       "0  ultra      5  \n",
       "1  smart     11  \n",
       "2  smart      6  \n",
       "3  ultra      8  \n",
       "4  ultra      5  "
      ]
     },
     "execution_count": 5,
     "metadata": {},
     "output_type": "execute_result"
    }
   ],
   "source": [
    "users.head()"
   ]
  },
  {
   "cell_type": "code",
   "execution_count": 6,
   "id": "ac962824",
   "metadata": {
    "scrolled": true
   },
   "outputs": [
    {
     "data": {
      "text/plain": [
       "user_id         0\n",
       "age             0\n",
       "churn_date    462\n",
       "city            0\n",
       "first_name      0\n",
       "last_name       0\n",
       "reg_date        0\n",
       "tariff          0\n",
       "month           0\n",
       "dtype: int64"
      ]
     },
     "execution_count": 6,
     "metadata": {},
     "output_type": "execute_result"
    }
   ],
   "source": [
    "# есть 462 пропущенных значений в колонке \"прекращение работы на тарифе\"\n",
    "# пропуски означают что человек все еще пользуется тарифом\n",
    "users.isna().sum()"
   ]
  },
  {
   "cell_type": "code",
   "execution_count": 7,
   "id": "39a5b4de",
   "metadata": {},
   "outputs": [],
   "source": [
    "# заменю пропуски на \"действующий\"\n",
    "users['churn_date'] = users['churn_date'].fillna('valid')"
   ]
  },
  {
   "cell_type": "code",
   "execution_count": 8,
   "id": "cbde6d1e",
   "metadata": {},
   "outputs": [
    {
     "data": {
      "text/plain": [
       "array(['Краснодар', 'Москва', 'Стерлитамак', 'Новокузнецк',\n",
       "       'Набережные Челны', 'Ульяновск', 'Челябинск', 'Пермь', 'Тюмень',\n",
       "       'Самара', 'Санкт-Петербург', 'Иваново', 'Чебоксары', 'Омск', 'Уфа',\n",
       "       'Томск', 'Чита', 'Мурманск', 'Петрозаводск', 'Тверь',\n",
       "       'Екатеринбург', 'Махачкала', 'Вологда', 'Череповец', 'Ярославль',\n",
       "       'Сочи', 'Хабаровск', 'Ставрополь', 'Рязань', 'Улан-Удэ', 'Тула',\n",
       "       'Саратов', 'Ростов-на-Дону', 'Казань', 'Иркутск', 'Курск',\n",
       "       'Калуга', 'Якутск', 'Астрахань', 'Химки', 'Владикавказ',\n",
       "       'Волгоград', 'Саранск', 'Ижевск', 'Новосибирск', 'Брянск',\n",
       "       'Тольятти', 'Нижний Тагил', 'Орёл', 'Белгород', 'Воронеж',\n",
       "       'Волжский', 'Курган', 'Барнаул', 'Красноярск', 'Архангельск',\n",
       "       'Липецк', 'Кемерово', 'Киров', 'Сургут', 'Пенза', 'Магнитогорск',\n",
       "       'Нижний Новгород', 'Кострома', 'Владивосток', 'Тамбов', 'Балашиха',\n",
       "       'Севастополь', 'Калининград', 'Оренбург', 'Смоленск',\n",
       "       'Нижневартовск', 'Владимир', 'Новороссийск', 'Грозный', 'Подольск'],\n",
       "      dtype=object)"
      ]
     },
     "execution_count": 8,
     "metadata": {},
     "output_type": "execute_result"
    }
   ],
   "source": [
    "# посмотрим данные на предмет повторяющихся значений\n",
    "users['city'].unique()"
   ]
  },
  {
   "cell_type": "code",
   "execution_count": 9,
   "id": "0dab530a",
   "metadata": {},
   "outputs": [
    {
     "data": {
      "text/plain": [
       "0"
      ]
     },
     "execution_count": 9,
     "metadata": {},
     "output_type": "execute_result"
    }
   ],
   "source": [
    "# проверим на дубликаты\n",
    "users.duplicated().sum()"
   ]
  },
  {
   "cell_type": "markdown",
   "id": "c6dbbf49",
   "metadata": {},
   "source": [
    "### Таблица CALLS"
   ]
  },
  {
   "cell_type": "code",
   "execution_count": 10,
   "id": "4d8b1be9",
   "metadata": {},
   "outputs": [
    {
     "data": {
      "text/html": [
       "<div>\n",
       "<style scoped>\n",
       "    .dataframe tbody tr th:only-of-type {\n",
       "        vertical-align: middle;\n",
       "    }\n",
       "\n",
       "    .dataframe tbody tr th {\n",
       "        vertical-align: top;\n",
       "    }\n",
       "\n",
       "    .dataframe thead th {\n",
       "        text-align: right;\n",
       "    }\n",
       "</style>\n",
       "<table border=\"1\" class=\"dataframe\">\n",
       "  <thead>\n",
       "    <tr style=\"text-align: right;\">\n",
       "      <th></th>\n",
       "      <th>id</th>\n",
       "      <th>call_date</th>\n",
       "      <th>duration</th>\n",
       "      <th>user_id</th>\n",
       "    </tr>\n",
       "  </thead>\n",
       "  <tbody>\n",
       "    <tr>\n",
       "      <th>0</th>\n",
       "      <td>1000_0</td>\n",
       "      <td>2018-07-25</td>\n",
       "      <td>0.00</td>\n",
       "      <td>1000</td>\n",
       "    </tr>\n",
       "    <tr>\n",
       "      <th>1</th>\n",
       "      <td>1000_1</td>\n",
       "      <td>2018-08-17</td>\n",
       "      <td>0.00</td>\n",
       "      <td>1000</td>\n",
       "    </tr>\n",
       "    <tr>\n",
       "      <th>2</th>\n",
       "      <td>1000_2</td>\n",
       "      <td>2018-06-11</td>\n",
       "      <td>2.85</td>\n",
       "      <td>1000</td>\n",
       "    </tr>\n",
       "    <tr>\n",
       "      <th>3</th>\n",
       "      <td>1000_3</td>\n",
       "      <td>2018-09-21</td>\n",
       "      <td>13.80</td>\n",
       "      <td>1000</td>\n",
       "    </tr>\n",
       "    <tr>\n",
       "      <th>4</th>\n",
       "      <td>1000_4</td>\n",
       "      <td>2018-12-15</td>\n",
       "      <td>5.18</td>\n",
       "      <td>1000</td>\n",
       "    </tr>\n",
       "  </tbody>\n",
       "</table>\n",
       "</div>"
      ],
      "text/plain": [
       "       id   call_date  duration  user_id\n",
       "0  1000_0  2018-07-25      0.00     1000\n",
       "1  1000_1  2018-08-17      0.00     1000\n",
       "2  1000_2  2018-06-11      2.85     1000\n",
       "3  1000_3  2018-09-21     13.80     1000\n",
       "4  1000_4  2018-12-15      5.18     1000"
      ]
     },
     "execution_count": 10,
     "metadata": {},
     "output_type": "execute_result"
    }
   ],
   "source": [
    "try:\n",
    "    calls = pd.read_csv('/--')\n",
    "except:\n",
    "    calls = pd.read_csv('/path')\n",
    "calls.head()"
   ]
  },
  {
   "cell_type": "code",
   "execution_count": 11,
   "id": "f860ccd9",
   "metadata": {},
   "outputs": [
    {
     "data": {
      "text/plain": [
       "id           0\n",
       "call_date    0\n",
       "duration     0\n",
       "user_id      0\n",
       "dtype: int64"
      ]
     },
     "execution_count": 11,
     "metadata": {},
     "output_type": "execute_result"
    }
   ],
   "source": [
    "# проверим пропуски\n",
    "calls.isna().sum()"
   ]
  },
  {
   "cell_type": "code",
   "execution_count": 12,
   "id": "df681e45",
   "metadata": {},
   "outputs": [
    {
     "name": "stdout",
     "output_type": "stream",
     "text": [
      "<class 'pandas.core.frame.DataFrame'>\n",
      "RangeIndex: 202607 entries, 0 to 202606\n",
      "Data columns (total 4 columns):\n",
      " #   Column     Non-Null Count   Dtype  \n",
      "---  ------     --------------   -----  \n",
      " 0   id         202607 non-null  object \n",
      " 1   call_date  202607 non-null  object \n",
      " 2   duration   202607 non-null  float64\n",
      " 3   user_id    202607 non-null  int64  \n",
      "dtypes: float64(1), int64(1), object(2)\n",
      "memory usage: 6.2+ MB\n"
     ]
    }
   ],
   "source": [
    "# просмотрим данные\n",
    "calls.info()"
   ]
  },
  {
   "cell_type": "code",
   "execution_count": 13,
   "id": "e0757c7c",
   "metadata": {},
   "outputs": [],
   "source": [
    "# округлим все минуты в соответствии с принципами Мегалайна, в сторону минут\n",
    "# и сразу поменяю тип данных\n",
    "calls['duration'] = (np.ceil(calls['duration'])).astype('int')"
   ]
  },
  {
   "cell_type": "code",
   "execution_count": 14,
   "id": "c9f6e7aa",
   "metadata": {},
   "outputs": [],
   "source": [
    "# время к типу временному\n",
    "calls['month'] = pd.to_datetime(calls['call_date'], format='%Y-%m-%d').dt.month"
   ]
  },
  {
   "cell_type": "code",
   "execution_count": 15,
   "id": "2fab0fbf",
   "metadata": {},
   "outputs": [
    {
     "data": {
      "text/plain": [
       "0"
      ]
     },
     "execution_count": 15,
     "metadata": {},
     "output_type": "execute_result"
    }
   ],
   "source": [
    "# проверю на дубликаты\n",
    "calls.duplicated().sum()"
   ]
  },
  {
   "cell_type": "code",
   "execution_count": 16,
   "id": "9a70ac19",
   "metadata": {},
   "outputs": [],
   "source": [
    "# соберу сводную таблицу, сгруппирую по месяцу и id, посчитаю суммарную продолжительность\n",
    "# звонков по человеку по месяцу\n",
    "calls_stat = calls.pivot_table(index=['user_id', 'month'],\n",
    "                               values='duration', aggfunc=('count', 'sum'))"
   ]
  },
  {
   "cell_type": "markdown",
   "id": "3bccec44",
   "metadata": {},
   "source": [
    "### Таблица MESSAGES"
   ]
  },
  {
   "cell_type": "code",
   "execution_count": 17,
   "id": "14edbc56",
   "metadata": {},
   "outputs": [
    {
     "data": {
      "text/html": [
       "<div>\n",
       "<style scoped>\n",
       "    .dataframe tbody tr th:only-of-type {\n",
       "        vertical-align: middle;\n",
       "    }\n",
       "\n",
       "    .dataframe tbody tr th {\n",
       "        vertical-align: top;\n",
       "    }\n",
       "\n",
       "    .dataframe thead th {\n",
       "        text-align: right;\n",
       "    }\n",
       "</style>\n",
       "<table border=\"1\" class=\"dataframe\">\n",
       "  <thead>\n",
       "    <tr style=\"text-align: right;\">\n",
       "      <th></th>\n",
       "      <th>id</th>\n",
       "      <th>message_date</th>\n",
       "      <th>user_id</th>\n",
       "    </tr>\n",
       "  </thead>\n",
       "  <tbody>\n",
       "    <tr>\n",
       "      <th>0</th>\n",
       "      <td>1000_0</td>\n",
       "      <td>2018-06-27</td>\n",
       "      <td>1000</td>\n",
       "    </tr>\n",
       "    <tr>\n",
       "      <th>1</th>\n",
       "      <td>1000_1</td>\n",
       "      <td>2018-10-08</td>\n",
       "      <td>1000</td>\n",
       "    </tr>\n",
       "    <tr>\n",
       "      <th>2</th>\n",
       "      <td>1000_2</td>\n",
       "      <td>2018-08-04</td>\n",
       "      <td>1000</td>\n",
       "    </tr>\n",
       "    <tr>\n",
       "      <th>3</th>\n",
       "      <td>1000_3</td>\n",
       "      <td>2018-06-16</td>\n",
       "      <td>1000</td>\n",
       "    </tr>\n",
       "    <tr>\n",
       "      <th>4</th>\n",
       "      <td>1000_4</td>\n",
       "      <td>2018-12-05</td>\n",
       "      <td>1000</td>\n",
       "    </tr>\n",
       "  </tbody>\n",
       "</table>\n",
       "</div>"
      ],
      "text/plain": [
       "       id message_date  user_id\n",
       "0  1000_0   2018-06-27     1000\n",
       "1  1000_1   2018-10-08     1000\n",
       "2  1000_2   2018-08-04     1000\n",
       "3  1000_3   2018-06-16     1000\n",
       "4  1000_4   2018-12-05     1000"
      ]
     },
     "execution_count": 17,
     "metadata": {},
     "output_type": "execute_result"
    }
   ],
   "source": [
    "try:\n",
    "    messages = pd.read_csv('/--')\n",
    "except:\n",
    "    messages = pd.read_csv('/path')\n",
    "messages.head()"
   ]
  },
  {
   "cell_type": "code",
   "execution_count": 18,
   "id": "de6a6325",
   "metadata": {},
   "outputs": [
    {
     "name": "stdout",
     "output_type": "stream",
     "text": [
      "<class 'pandas.core.frame.DataFrame'>\n",
      "RangeIndex: 123036 entries, 0 to 123035\n",
      "Data columns (total 3 columns):\n",
      " #   Column        Non-Null Count   Dtype \n",
      "---  ------        --------------   ----- \n",
      " 0   id            123036 non-null  object\n",
      " 1   message_date  123036 non-null  object\n",
      " 2   user_id       123036 non-null  int64 \n",
      "dtypes: int64(1), object(2)\n",
      "memory usage: 2.8+ MB\n"
     ]
    }
   ],
   "source": [
    "# посмотрим данные таблицы\n",
    "messages.info()"
   ]
  },
  {
   "cell_type": "code",
   "execution_count": 19,
   "id": "fe24aa13",
   "metadata": {},
   "outputs": [
    {
     "data": {
      "text/plain": [
       "id              0\n",
       "message_date    0\n",
       "user_id         0\n",
       "dtype: int64"
      ]
     },
     "execution_count": 19,
     "metadata": {},
     "output_type": "execute_result"
    }
   ],
   "source": [
    "# проверим на пропуски\n",
    "messages.isna().sum()"
   ]
  },
  {
   "cell_type": "code",
   "execution_count": 20,
   "id": "9694f8ff",
   "metadata": {},
   "outputs": [],
   "source": [
    "# добавим в столбец данные о месяце\n",
    "messages['month'] = pd.to_datetime(messages['message_date'], format='%Y-%m-%d').dt.month"
   ]
  },
  {
   "cell_type": "code",
   "execution_count": 21,
   "id": "1cfc541a",
   "metadata": {},
   "outputs": [
    {
     "data": {
      "text/plain": [
       "0"
      ]
     },
     "execution_count": 21,
     "metadata": {},
     "output_type": "execute_result"
    }
   ],
   "source": [
    "# проверю на дубликаты\n",
    "messages.duplicated().sum()"
   ]
  },
  {
   "cell_type": "code",
   "execution_count": 22,
   "id": "44400895",
   "metadata": {},
   "outputs": [],
   "source": [
    "# соберу сводную таблицу о кол-ве сообщений по каждому человеку за месяц\n",
    "messages_stat = (messages\n",
    "    .pivot_table(index=['user_id', 'month'], \n",
    "                 values='message_date', \n",
    "                 aggfunc='count')\n",
    "                )"
   ]
  },
  {
   "cell_type": "markdown",
   "id": "dc5aca0e",
   "metadata": {},
   "source": [
    "### Таблица INTERNET"
   ]
  },
  {
   "cell_type": "code",
   "execution_count": 23,
   "id": "df1862c4",
   "metadata": {
    "scrolled": true
   },
   "outputs": [
    {
     "data": {
      "text/html": [
       "<div>\n",
       "<style scoped>\n",
       "    .dataframe tbody tr th:only-of-type {\n",
       "        vertical-align: middle;\n",
       "    }\n",
       "\n",
       "    .dataframe tbody tr th {\n",
       "        vertical-align: top;\n",
       "    }\n",
       "\n",
       "    .dataframe thead th {\n",
       "        text-align: right;\n",
       "    }\n",
       "</style>\n",
       "<table border=\"1\" class=\"dataframe\">\n",
       "  <thead>\n",
       "    <tr style=\"text-align: right;\">\n",
       "      <th></th>\n",
       "      <th>id</th>\n",
       "      <th>mb_used</th>\n",
       "      <th>session_date</th>\n",
       "      <th>user_id</th>\n",
       "    </tr>\n",
       "  </thead>\n",
       "  <tbody>\n",
       "    <tr>\n",
       "      <th>0</th>\n",
       "      <td>1000_0</td>\n",
       "      <td>112.95</td>\n",
       "      <td>2018-11-25</td>\n",
       "      <td>1000</td>\n",
       "    </tr>\n",
       "    <tr>\n",
       "      <th>1</th>\n",
       "      <td>1000_1</td>\n",
       "      <td>1052.81</td>\n",
       "      <td>2018-09-07</td>\n",
       "      <td>1000</td>\n",
       "    </tr>\n",
       "    <tr>\n",
       "      <th>2</th>\n",
       "      <td>1000_2</td>\n",
       "      <td>1197.26</td>\n",
       "      <td>2018-06-25</td>\n",
       "      <td>1000</td>\n",
       "    </tr>\n",
       "    <tr>\n",
       "      <th>3</th>\n",
       "      <td>1000_3</td>\n",
       "      <td>550.27</td>\n",
       "      <td>2018-08-22</td>\n",
       "      <td>1000</td>\n",
       "    </tr>\n",
       "    <tr>\n",
       "      <th>4</th>\n",
       "      <td>1000_4</td>\n",
       "      <td>302.56</td>\n",
       "      <td>2018-09-24</td>\n",
       "      <td>1000</td>\n",
       "    </tr>\n",
       "  </tbody>\n",
       "</table>\n",
       "</div>"
      ],
      "text/plain": [
       "       id  mb_used session_date  user_id\n",
       "0  1000_0   112.95   2018-11-25     1000\n",
       "1  1000_1  1052.81   2018-09-07     1000\n",
       "2  1000_2  1197.26   2018-06-25     1000\n",
       "3  1000_3   550.27   2018-08-22     1000\n",
       "4  1000_4   302.56   2018-09-24     1000"
      ]
     },
     "execution_count": 23,
     "metadata": {},
     "output_type": "execute_result"
    }
   ],
   "source": [
    "try:\n",
    "    internet = pd.read_csv('/----', index_col=0)\n",
    "except:\n",
    "    internet = pd.read_csv('/path', index_col=0)\n",
    "internet.head()"
   ]
  },
  {
   "cell_type": "code",
   "execution_count": 24,
   "id": "2c78b12e",
   "metadata": {},
   "outputs": [
    {
     "data": {
      "image/png": "[encoded data removed]",
      "text/plain": [
       "<Figure size 432x288 with 1 Axes>"
      ]
     },
     "metadata": {
      "needs_background": "light"
     },
     "output_type": "display_data"
    }
   ],
   "source": [
    "plt.hist(internet['mb_used'], bins=50, color='#36AE7C')\n",
    "plt.show()"
   ]
  },
  {
   "cell_type": "code",
   "execution_count": 25,
   "id": "a7bae8be",
   "metadata": {},
   "outputs": [
    {
     "data": {
      "text/plain": [
       "id              13.118156\n",
       "mb_used         13.118156\n",
       "session_date    13.118156\n",
       "user_id         13.118156\n",
       "dtype: float64"
      ]
     },
     "execution_count": 25,
     "metadata": {},
     "output_type": "execute_result"
    }
   ],
   "source": [
    "(internet.query('mb_used == 0').count() / len(internet)) * 100"
   ]
  },
  {
   "cell_type": "code",
   "execution_count": 26,
   "id": "7ff109ce",
   "metadata": {},
   "outputs": [],
   "source": [
    "# уберем нулевые сессии из датафрейма\n",
    "internet = internet.query('mb_used != 0')"
   ]
  },
  {
   "cell_type": "code",
   "execution_count": 27,
   "id": "24e90112",
   "metadata": {},
   "outputs": [
    {
     "name": "stdout",
     "output_type": "stream",
     "text": [
      "<class 'pandas.core.frame.DataFrame'>\n",
      "Int64Index: 129798 entries, 0 to 149395\n",
      "Data columns (total 4 columns):\n",
      " #   Column        Non-Null Count   Dtype  \n",
      "---  ------        --------------   -----  \n",
      " 0   id            129798 non-null  object \n",
      " 1   mb_used       129798 non-null  float64\n",
      " 2   session_date  129798 non-null  object \n",
      " 3   user_id       129798 non-null  int64  \n",
      "dtypes: float64(1), int64(1), object(2)\n",
      "memory usage: 5.0+ MB\n"
     ]
    }
   ],
   "source": [
    "# просмотрю информацию о таблице\n",
    "internet.info()"
   ]
  },
  {
   "cell_type": "code",
   "execution_count": 28,
   "id": "51774a8f",
   "metadata": {},
   "outputs": [
    {
     "data": {
      "text/plain": [
       "Index(['id', 'mb_used', 'session_date', 'user_id'], dtype='object')"
      ]
     },
     "execution_count": 28,
     "metadata": {},
     "output_type": "execute_result"
    }
   ],
   "source": [
    "# проверим названия колонок\n",
    "internet.columns"
   ]
  },
  {
   "cell_type": "code",
   "execution_count": 29,
   "id": "a1d9191d",
   "metadata": {},
   "outputs": [],
   "source": [
    "# приведем дату к нужному формату\n",
    "internet['month'] = pd.to_datetime(internet['session_date'], format='%Y-%m-%d').dt.month"
   ]
  },
  {
   "cell_type": "code",
   "execution_count": 30,
   "id": "47978ab7",
   "metadata": {},
   "outputs": [],
   "source": [
    "# соберу сводную таблицу по трафику по человеку за каждый месяц\n",
    "internet_stat = (internet\n",
    "                 .pivot_table(index=['user_id', 'month'], \n",
    "                              values='mb_used', \n",
    "                              aggfunc='sum')\n",
    "                )"
   ]
  },
  {
   "cell_type": "markdown",
   "id": "9648f53f",
   "metadata": {},
   "source": [
    "### Таблица TARIFFS"
   ]
  },
  {
   "cell_type": "code",
   "execution_count": 31,
   "id": "4131a5a0",
   "metadata": {},
   "outputs": [
    {
     "data": {
      "text/html": [
       "<div>\n",
       "<style scoped>\n",
       "    .dataframe tbody tr th:only-of-type {\n",
       "        vertical-align: middle;\n",
       "    }\n",
       "\n",
       "    .dataframe tbody tr th {\n",
       "        vertical-align: top;\n",
       "    }\n",
       "\n",
       "    .dataframe thead th {\n",
       "        text-align: right;\n",
       "    }\n",
       "</style>\n",
       "<table border=\"1\" class=\"dataframe\">\n",
       "  <thead>\n",
       "    <tr style=\"text-align: right;\">\n",
       "      <th></th>\n",
       "      <th>messages_included</th>\n",
       "      <th>mb_per_month_included</th>\n",
       "      <th>minutes_included</th>\n",
       "      <th>rub_monthly_fee</th>\n",
       "      <th>rub_per_gb</th>\n",
       "      <th>rub_per_message</th>\n",
       "      <th>rub_per_minute</th>\n",
       "      <th>tariff_name</th>\n",
       "    </tr>\n",
       "  </thead>\n",
       "  <tbody>\n",
       "    <tr>\n",
       "      <th>0</th>\n",
       "      <td>50</td>\n",
       "      <td>15360</td>\n",
       "      <td>500</td>\n",
       "      <td>550</td>\n",
       "      <td>200</td>\n",
       "      <td>3</td>\n",
       "      <td>3</td>\n",
       "      <td>smart</td>\n",
       "    </tr>\n",
       "    <tr>\n",
       "      <th>1</th>\n",
       "      <td>1000</td>\n",
       "      <td>30720</td>\n",
       "      <td>3000</td>\n",
       "      <td>1950</td>\n",
       "      <td>150</td>\n",
       "      <td>1</td>\n",
       "      <td>1</td>\n",
       "      <td>ultra</td>\n",
       "    </tr>\n",
       "  </tbody>\n",
       "</table>\n",
       "</div>"
      ],
      "text/plain": [
       "   messages_included  mb_per_month_included  minutes_included  \\\n",
       "0                 50                  15360               500   \n",
       "1               1000                  30720              3000   \n",
       "\n",
       "   rub_monthly_fee  rub_per_gb  rub_per_message  rub_per_minute tariff_name  \n",
       "0              550         200                3               3       smart  \n",
       "1             1950         150                1               1       ultra  "
      ]
     },
     "execution_count": 31,
     "metadata": {},
     "output_type": "execute_result"
    }
   ],
   "source": [
    "try:\n",
    "    tariffs = pd.read_csv('---')\n",
    "except:\n",
    "    tariffs = pd.read_csv('/path')\n",
    "tariffs.head()"
   ]
  },
  {
   "cell_type": "code",
   "execution_count": 32,
   "id": "6983dce4",
   "metadata": {},
   "outputs": [
    {
     "name": "stdout",
     "output_type": "stream",
     "text": [
      "<class 'pandas.core.frame.DataFrame'>\n",
      "RangeIndex: 2 entries, 0 to 1\n",
      "Data columns (total 8 columns):\n",
      " #   Column                 Non-Null Count  Dtype \n",
      "---  ------                 --------------  ----- \n",
      " 0   messages_included      2 non-null      int64 \n",
      " 1   mb_per_month_included  2 non-null      int64 \n",
      " 2   minutes_included       2 non-null      int64 \n",
      " 3   rub_monthly_fee        2 non-null      int64 \n",
      " 4   rub_per_gb             2 non-null      int64 \n",
      " 5   rub_per_message        2 non-null      int64 \n",
      " 6   rub_per_minute         2 non-null      int64 \n",
      " 7   tariff_name            2 non-null      object\n",
      "dtypes: int64(7), object(1)\n",
      "memory usage: 256.0+ bytes\n"
     ]
    }
   ],
   "source": [
    "# просмотрю данные о таблице\n",
    "tariffs.info()"
   ]
  },
  {
   "cell_type": "code",
   "execution_count": 33,
   "id": "50548c59",
   "metadata": {},
   "outputs": [],
   "source": [
    "# переименую названия столбцов\n",
    "tariffs = tariffs.rename(\n",
    "    columns = {'tariff_name' : 'tariff', 'mb_per_month_included' : 'gb_included'}\n",
    ")"
   ]
  },
  {
   "cell_type": "code",
   "execution_count": 34,
   "id": "eb7f8b7e",
   "metadata": {},
   "outputs": [],
   "source": [
    "# переведу включенные в тариф мегабайты в гигабайты\n",
    "tariffs['gb_included'] = round(tariffs['gb_included'] / 1024)"
   ]
  },
  {
   "cell_type": "code",
   "execution_count": 71,
   "id": "ac61c48c",
   "metadata": {},
   "outputs": [
    {
     "data": {
      "text/html": [
       "<div>\n",
       "<style scoped>\n",
       "    .dataframe tbody tr th:only-of-type {\n",
       "        vertical-align: middle;\n",
       "    }\n",
       "\n",
       "    .dataframe tbody tr th {\n",
       "        vertical-align: top;\n",
       "    }\n",
       "\n",
       "    .dataframe thead th {\n",
       "        text-align: right;\n",
       "    }\n",
       "</style>\n",
       "<table border=\"1\" class=\"dataframe\">\n",
       "  <thead>\n",
       "    <tr style=\"text-align: right;\">\n",
       "      <th></th>\n",
       "      <th>user_id</th>\n",
       "      <th>month</th>\n",
       "      <th>calls</th>\n",
       "      <th>calls_duration</th>\n",
       "      <th>messages</th>\n",
       "      <th>total_mb</th>\n",
       "    </tr>\n",
       "  </thead>\n",
       "  <tbody>\n",
       "    <tr>\n",
       "      <th>0</th>\n",
       "      <td>1000</td>\n",
       "      <td>5</td>\n",
       "      <td>22.0</td>\n",
       "      <td>159.0</td>\n",
       "      <td>22.0</td>\n",
       "      <td>2253.49</td>\n",
       "    </tr>\n",
       "    <tr>\n",
       "      <th>1</th>\n",
       "      <td>1000</td>\n",
       "      <td>6</td>\n",
       "      <td>43.0</td>\n",
       "      <td>172.0</td>\n",
       "      <td>60.0</td>\n",
       "      <td>23233.77</td>\n",
       "    </tr>\n",
       "    <tr>\n",
       "      <th>2</th>\n",
       "      <td>1000</td>\n",
       "      <td>7</td>\n",
       "      <td>47.0</td>\n",
       "      <td>340.0</td>\n",
       "      <td>75.0</td>\n",
       "      <td>14003.64</td>\n",
       "    </tr>\n",
       "    <tr>\n",
       "      <th>3</th>\n",
       "      <td>1000</td>\n",
       "      <td>8</td>\n",
       "      <td>52.0</td>\n",
       "      <td>408.0</td>\n",
       "      <td>81.0</td>\n",
       "      <td>14055.93</td>\n",
       "    </tr>\n",
       "    <tr>\n",
       "      <th>4</th>\n",
       "      <td>1000</td>\n",
       "      <td>9</td>\n",
       "      <td>58.0</td>\n",
       "      <td>466.0</td>\n",
       "      <td>57.0</td>\n",
       "      <td>14568.91</td>\n",
       "    </tr>\n",
       "  </tbody>\n",
       "</table>\n",
       "</div>"
      ],
      "text/plain": [
       "   user_id  month  calls  calls_duration  messages  total_mb\n",
       "0     1000      5   22.0           159.0      22.0   2253.49\n",
       "1     1000      6   43.0           172.0      60.0  23233.77\n",
       "2     1000      7   47.0           340.0      75.0  14003.64\n",
       "3     1000      8   52.0           408.0      81.0  14055.93\n",
       "4     1000      9   58.0           466.0      57.0  14568.91"
      ]
     },
     "metadata": {},
     "output_type": "display_data"
    }
   ],
   "source": [
    "# соберу сводную таблицу\n",
    "stat = (calls_stat\n",
    "    .merge(messages_stat, on=['user_id', 'month'], how='outer')\n",
    "    .merge(internet_stat, on=['user_id', 'month'], how='outer')\n",
    "       ).reset_index()\n",
    "\n",
    "stat = stat.rename(columns={\n",
    "    'count' : 'calls',\n",
    "    'sum' : 'calls_duration',\n",
    "    'message_date' : 'messages',\n",
    "    'mb_used' : 'total_mb'\n",
    "})\n",
    "\n",
    "display(stat.head())"
   ]
  },
  {
   "cell_type": "code",
   "execution_count": 36,
   "id": "8b8c02a1",
   "metadata": {},
   "outputs": [
    {
     "data": {
      "text/plain": [
       "Index(['user_id', 'month', 'calls', 'calls_duration', 'messages', 'total_mb'], dtype='object')"
      ]
     },
     "execution_count": 36,
     "metadata": {},
     "output_type": "execute_result"
    }
   ],
   "source": [
    "stat.columns"
   ]
  },
  {
   "cell_type": "code",
   "execution_count": 37,
   "id": "20d2bb48",
   "metadata": {},
   "outputs": [
    {
     "data": {
      "text/plain": [
       "user_id             0\n",
       "month               0\n",
       "calls              40\n",
       "calls_duration     40\n",
       "messages          497\n",
       "total_mb           13\n",
       "dtype: int64"
      ]
     },
     "execution_count": 37,
     "metadata": {},
     "output_type": "execute_result"
    }
   ],
   "source": [
    "stat.isna().sum()"
   ]
  },
  {
   "cell_type": "code",
   "execution_count": 38,
   "id": "63e66518",
   "metadata": {},
   "outputs": [],
   "source": [
    "# из-за слияния таблиц появились пропуски в данных\n",
    "# звонки - заменим нулями, это ни на что не повлияет\n",
    "stat['calls'] = stat['calls'].fillna(np.NaN)\n",
    "# длительность звонков также изменим на 0\n",
    "stat['calls_duration'] = stat['calls_duration'].fillna(np.NaN)\n",
    "# для сообщений\n",
    "stat['messages'] = stat['messages'].fillna(np.NaN)\n",
    "# для интернета\n",
    "stat['total_mb'] = stat['total_mb'].fillna(np.NaN)"
   ]
  },
  {
   "cell_type": "code",
   "execution_count": 39,
   "id": "a8d181ed",
   "metadata": {},
   "outputs": [],
   "source": [
    "stat['total_gb'] = np.ceil(stat['total_mb'] / 1024)"
   ]
  },
  {
   "cell_type": "code",
   "execution_count": 40,
   "id": "0ed59094",
   "metadata": {},
   "outputs": [],
   "source": [
    "# добавим в сводную таблицу данные о пользователях\n",
    "stat = stat.merge(users, on='user_id', how='outer')\n",
    "del stat['month_y']"
   ]
  },
  {
   "cell_type": "code",
   "execution_count": 41,
   "id": "66b1988b",
   "metadata": {},
   "outputs": [
    {
     "data": {
      "text/html": [
       "<div>\n",
       "<style scoped>\n",
       "    .dataframe tbody tr th:only-of-type {\n",
       "        vertical-align: middle;\n",
       "    }\n",
       "\n",
       "    .dataframe tbody tr th {\n",
       "        vertical-align: top;\n",
       "    }\n",
       "\n",
       "    .dataframe thead th {\n",
       "        text-align: right;\n",
       "    }\n",
       "</style>\n",
       "<table border=\"1\" class=\"dataframe\">\n",
       "  <thead>\n",
       "    <tr style=\"text-align: right;\">\n",
       "      <th></th>\n",
       "      <th>user_id</th>\n",
       "      <th>month_x</th>\n",
       "      <th>calls</th>\n",
       "      <th>calls_duration</th>\n",
       "      <th>messages</th>\n",
       "      <th>total_mb</th>\n",
       "      <th>total_gb</th>\n",
       "      <th>age</th>\n",
       "      <th>churn_date</th>\n",
       "      <th>city</th>\n",
       "      <th>first_name</th>\n",
       "      <th>last_name</th>\n",
       "      <th>reg_date</th>\n",
       "      <th>tariff</th>\n",
       "    </tr>\n",
       "  </thead>\n",
       "  <tbody>\n",
       "    <tr>\n",
       "      <th>3213</th>\n",
       "      <td>1489</td>\n",
       "      <td>12.0</td>\n",
       "      <td>NaN</td>\n",
       "      <td>NaN</td>\n",
       "      <td>35.0</td>\n",
       "      <td>17322.51</td>\n",
       "      <td>17.0</td>\n",
       "      <td>35</td>\n",
       "      <td>valid</td>\n",
       "      <td>Санкт-Петербург</td>\n",
       "      <td>Павел</td>\n",
       "      <td>Гончаров</td>\n",
       "      <td>2018-08-15</td>\n",
       "      <td>smart</td>\n",
       "    </tr>\n",
       "    <tr>\n",
       "      <th>3214</th>\n",
       "      <td>1128</td>\n",
       "      <td>NaN</td>\n",
       "      <td>NaN</td>\n",
       "      <td>NaN</td>\n",
       "      <td>NaN</td>\n",
       "      <td>NaN</td>\n",
       "      <td>NaN</td>\n",
       "      <td>51</td>\n",
       "      <td>2018-12-23</td>\n",
       "      <td>Волжский</td>\n",
       "      <td>Ксения</td>\n",
       "      <td>Агаева</td>\n",
       "      <td>2018-12-15</td>\n",
       "      <td>ultra</td>\n",
       "    </tr>\n",
       "    <tr>\n",
       "      <th>3215</th>\n",
       "      <td>1371</td>\n",
       "      <td>NaN</td>\n",
       "      <td>NaN</td>\n",
       "      <td>NaN</td>\n",
       "      <td>NaN</td>\n",
       "      <td>NaN</td>\n",
       "      <td>NaN</td>\n",
       "      <td>50</td>\n",
       "      <td>2018-12-30</td>\n",
       "      <td>Омск</td>\n",
       "      <td>Ириней</td>\n",
       "      <td>Трофимов</td>\n",
       "      <td>2018-12-25</td>\n",
       "      <td>smart</td>\n",
       "    </tr>\n",
       "  </tbody>\n",
       "</table>\n",
       "</div>"
      ],
      "text/plain": [
       "      user_id  month_x  calls  calls_duration  messages  total_mb  total_gb  \\\n",
       "3213     1489     12.0    NaN             NaN      35.0  17322.51      17.0   \n",
       "3214     1128      NaN    NaN             NaN       NaN       NaN       NaN   \n",
       "3215     1371      NaN    NaN             NaN       NaN       NaN       NaN   \n",
       "\n",
       "      age  churn_date             city first_name last_name    reg_date tariff  \n",
       "3213   35       valid  Санкт-Петербург      Павел  Гончаров  2018-08-15  smart  \n",
       "3214   51  2018-12-23         Волжский     Ксения    Агаева  2018-12-15  ultra  \n",
       "3215   50  2018-12-30             Омск     Ириней  Трофимов  2018-12-25  smart  "
      ]
     },
     "execution_count": 41,
     "metadata": {},
     "output_type": "execute_result"
    }
   ],
   "source": [
    "stat.tail(3)"
   ]
  },
  {
   "cell_type": "code",
   "execution_count": 42,
   "id": "1edfdf7e",
   "metadata": {},
   "outputs": [
    {
     "data": {
      "text/html": [
       "<div>\n",
       "<style scoped>\n",
       "    .dataframe tbody tr th:only-of-type {\n",
       "        vertical-align: middle;\n",
       "    }\n",
       "\n",
       "    .dataframe tbody tr th {\n",
       "        vertical-align: top;\n",
       "    }\n",
       "\n",
       "    .dataframe thead th {\n",
       "        text-align: right;\n",
       "    }\n",
       "</style>\n",
       "<table border=\"1\" class=\"dataframe\">\n",
       "  <thead>\n",
       "    <tr style=\"text-align: right;\">\n",
       "      <th></th>\n",
       "      <th>user_id</th>\n",
       "      <th>month_x</th>\n",
       "      <th>calls_duration</th>\n",
       "      <th>messages</th>\n",
       "      <th>total_gb</th>\n",
       "      <th>city</th>\n",
       "      <th>tariff</th>\n",
       "      <th>first_name</th>\n",
       "      <th>last_name</th>\n",
       "    </tr>\n",
       "  </thead>\n",
       "  <tbody>\n",
       "    <tr>\n",
       "      <th>0</th>\n",
       "      <td>1000</td>\n",
       "      <td>5.0</td>\n",
       "      <td>159.0</td>\n",
       "      <td>22.0</td>\n",
       "      <td>3.0</td>\n",
       "      <td>Краснодар</td>\n",
       "      <td>ultra</td>\n",
       "      <td>Рафаил</td>\n",
       "      <td>Верещагин</td>\n",
       "    </tr>\n",
       "    <tr>\n",
       "      <th>1</th>\n",
       "      <td>1000</td>\n",
       "      <td>6.0</td>\n",
       "      <td>172.0</td>\n",
       "      <td>60.0</td>\n",
       "      <td>23.0</td>\n",
       "      <td>Краснодар</td>\n",
       "      <td>ultra</td>\n",
       "      <td>Рафаил</td>\n",
       "      <td>Верещагин</td>\n",
       "    </tr>\n",
       "  </tbody>\n",
       "</table>\n",
       "</div>"
      ],
      "text/plain": [
       "   user_id  month_x  calls_duration  messages  total_gb       city tariff  \\\n",
       "0     1000      5.0           159.0      22.0       3.0  Краснодар  ultra   \n",
       "1     1000      6.0           172.0      60.0      23.0  Краснодар  ultra   \n",
       "\n",
       "  first_name  last_name  \n",
       "0     Рафаил  Верещагин  \n",
       "1     Рафаил  Верещагин  "
      ]
     },
     "execution_count": 42,
     "metadata": {},
     "output_type": "execute_result"
    }
   ],
   "source": [
    "# избавлюсь от столбцов\n",
    "\n",
    "test = stat[\n",
    "    ['user_id', 'month_x', 'calls_duration', 'messages',\n",
    "     'total_gb', 'city', 'tariff', 'first_name', 'last_name']\n",
    "]\n",
    "test.head(2)"
   ]
  },
  {
   "cell_type": "code",
   "execution_count": 43,
   "id": "a604ad58",
   "metadata": {},
   "outputs": [],
   "source": [
    "# добавлю данные тарифа в таблицу\n",
    "test = test.merge(tariffs, on='tariff')"
   ]
  },
  {
   "cell_type": "code",
   "execution_count": 44,
   "id": "6bde5413",
   "metadata": {},
   "outputs": [],
   "source": [
    "# переписала функцию\n",
    "def money(row): \n",
    "        \n",
    "        min_fee = 0\n",
    "        sms_fee = 0\n",
    "        gb_fee = 0\n",
    "        \n",
    "        if row['minutes_included'] < row['calls_duration']:\n",
    "            min_fee += (row['calls_duration'] - row['minutes_included']) * row['rub_per_minute']\n",
    "            \n",
    "        if row['messages_included'] < row['messages']:\n",
    "            sms_fee += (row['messages'] - row['messages_included']) * row['rub_per_message'] \n",
    "        \n",
    "        if row['gb_included'] < row['total_gb']:\n",
    "            gb_fee += (row['total_gb'] - row['gb_included']) * row['rub_per_gb']\n",
    "        \n",
    "        return row['rub_monthly_fee'] + min_fee + sms_fee + gb_fee\n",
    "        "
   ]
  },
  {
   "cell_type": "code",
   "execution_count": 45,
   "id": "f7b71171",
   "metadata": {},
   "outputs": [],
   "source": [
    "# добавлю столбец в таблицу\n",
    "test['total_cost'] = test.apply(money, axis=1)"
   ]
  },
  {
   "cell_type": "markdown",
   "id": "214383a2",
   "metadata": {},
   "source": [
    "# Блок проверки выручки"
   ]
  },
  {
   "cell_type": "code",
   "execution_count": 46,
   "id": "8a5fe9e8",
   "metadata": {},
   "outputs": [
    {
     "data": {
      "text/plain": [
       "4916951.0"
      ]
     },
     "execution_count": 46,
     "metadata": {},
     "output_type": "execute_result"
    }
   ],
   "source": [
    "test['total_cost'].sum()"
   ]
  },
  {
   "cell_type": "code",
   "execution_count": 47,
   "id": "ff438508",
   "metadata": {},
   "outputs": [
    {
     "data": {
      "text/html": [
       "<div>\n",
       "<style scoped>\n",
       "    .dataframe tbody tr th:only-of-type {\n",
       "        vertical-align: middle;\n",
       "    }\n",
       "\n",
       "    .dataframe tbody tr th {\n",
       "        vertical-align: top;\n",
       "    }\n",
       "\n",
       "    .dataframe thead th {\n",
       "        text-align: right;\n",
       "    }\n",
       "</style>\n",
       "<table border=\"1\" class=\"dataframe\">\n",
       "  <thead>\n",
       "    <tr style=\"text-align: right;\">\n",
       "      <th></th>\n",
       "      <th>user_id</th>\n",
       "      <th>tariff</th>\n",
       "      <th>month_x</th>\n",
       "      <th>calls_duration</th>\n",
       "      <th>messages</th>\n",
       "      <th>total_gb</th>\n",
       "      <th>gb_included</th>\n",
       "      <th>total_cost</th>\n",
       "    </tr>\n",
       "  </thead>\n",
       "  <tbody>\n",
       "    <tr>\n",
       "      <th>3205</th>\n",
       "      <td>1498</td>\n",
       "      <td>smart</td>\n",
       "      <td>10.0</td>\n",
       "      <td>247.0</td>\n",
       "      <td>42.0</td>\n",
       "      <td>21.0</td>\n",
       "      <td>15.0</td>\n",
       "      <td>1750.0</td>\n",
       "    </tr>\n",
       "    <tr>\n",
       "      <th>3206</th>\n",
       "      <td>1499</td>\n",
       "      <td>smart</td>\n",
       "      <td>9.0</td>\n",
       "      <td>70.0</td>\n",
       "      <td>11.0</td>\n",
       "      <td>2.0</td>\n",
       "      <td>15.0</td>\n",
       "      <td>550.0</td>\n",
       "    </tr>\n",
       "    <tr>\n",
       "      <th>3207</th>\n",
       "      <td>1499</td>\n",
       "      <td>smart</td>\n",
       "      <td>10.0</td>\n",
       "      <td>449.0</td>\n",
       "      <td>48.0</td>\n",
       "      <td>18.0</td>\n",
       "      <td>15.0</td>\n",
       "      <td>1150.0</td>\n",
       "    </tr>\n",
       "    <tr>\n",
       "      <th>3208</th>\n",
       "      <td>1499</td>\n",
       "      <td>smart</td>\n",
       "      <td>11.0</td>\n",
       "      <td>612.0</td>\n",
       "      <td>59.0</td>\n",
       "      <td>18.0</td>\n",
       "      <td>15.0</td>\n",
       "      <td>1513.0</td>\n",
       "    </tr>\n",
       "    <tr>\n",
       "      <th>3209</th>\n",
       "      <td>1499</td>\n",
       "      <td>smart</td>\n",
       "      <td>12.0</td>\n",
       "      <td>492.0</td>\n",
       "      <td>66.0</td>\n",
       "      <td>13.0</td>\n",
       "      <td>15.0</td>\n",
       "      <td>598.0</td>\n",
       "    </tr>\n",
       "  </tbody>\n",
       "</table>\n",
       "</div>"
      ],
      "text/plain": [
       "      user_id tariff  month_x  calls_duration  messages  total_gb  \\\n",
       "3205     1498  smart     10.0           247.0      42.0      21.0   \n",
       "3206     1499  smart      9.0            70.0      11.0       2.0   \n",
       "3207     1499  smart     10.0           449.0      48.0      18.0   \n",
       "3208     1499  smart     11.0           612.0      59.0      18.0   \n",
       "3209     1499  smart     12.0           492.0      66.0      13.0   \n",
       "\n",
       "      gb_included  total_cost  \n",
       "3205         15.0      1750.0  \n",
       "3206         15.0       550.0  \n",
       "3207         15.0      1150.0  \n",
       "3208         15.0      1513.0  \n",
       "3209         15.0       598.0  "
      ]
     },
     "execution_count": 47,
     "metadata": {},
     "output_type": "execute_result"
    }
   ],
   "source": [
    "# проверка выручки с калькулятором\n",
    "\n",
    "test[\n",
    "     (test['tariff'] == 'smart') \n",
    "     &( test['total_gb'] > 0) \n",
    "     &( test['calls_duration'] > 0) \n",
    "     &( test['messages'] > 0) \n",
    "][[\n",
    "    'user_id', 'tariff', 'month_x', 'calls_duration', 'messages', 'total_gb', 'gb_included', 'total_cost']].tail()"
   ]
  },
  {
   "cell_type": "markdown",
   "id": "1044601c",
   "metadata": {},
   "source": [
    "# Раздел в котором необходимо пересмотреть все числа, т.к. они поменяются, когда мы найдем наших потеряшек и исправим очепятки"
   ]
  },
  {
   "cell_type": "code",
   "execution_count": 72,
   "id": "28d596b5",
   "metadata": {},
   "outputs": [
    {
     "data": {
      "text/html": [
       "<div>\n",
       "<style scoped>\n",
       "    .dataframe tbody tr th:only-of-type {\n",
       "        vertical-align: middle;\n",
       "    }\n",
       "\n",
       "    .dataframe tbody tr th {\n",
       "        vertical-align: top;\n",
       "    }\n",
       "\n",
       "    .dataframe thead th {\n",
       "        text-align: right;\n",
       "    }\n",
       "</style>\n",
       "<table border=\"1\" class=\"dataframe\">\n",
       "  <thead>\n",
       "    <tr style=\"text-align: right;\">\n",
       "      <th></th>\n",
       "      <th>tariff</th>\n",
       "      <th>mean_revenue</th>\n",
       "      <th>std_revenue</th>\n",
       "      <th>var_revenue</th>\n",
       "    </tr>\n",
       "  </thead>\n",
       "  <tbody>\n",
       "    <tr>\n",
       "      <th>0</th>\n",
       "      <td>smart</td>\n",
       "      <td>1290.0</td>\n",
       "      <td>818.0</td>\n",
       "      <td>669731.0</td>\n",
       "    </tr>\n",
       "    <tr>\n",
       "      <th>1</th>\n",
       "      <td>ultra</td>\n",
       "      <td>2070.0</td>\n",
       "      <td>376.0</td>\n",
       "      <td>141388.0</td>\n",
       "    </tr>\n",
       "  </tbody>\n",
       "</table>\n",
       "</div>"
      ],
      "text/plain": [
       "  tariff  mean_revenue  std_revenue  var_revenue\n",
       "0  smart        1290.0        818.0     669731.0\n",
       "1  ultra        2070.0        376.0     141388.0"
      ]
     },
     "metadata": {},
     "output_type": "display_data"
    }
   ],
   "source": [
    "# удаление мультииндекса\n",
    "\n",
    "mean = (test\n",
    " .pivot_table(index=['tariff'], \n",
    "              values=['total_cost'], \n",
    "              aggfunc=['mean', 'std', 'var'])\n",
    "                .droplevel(level=1, axis=1) # сброс мультииндекса\n",
    "                .rename(columns={'mean':'mean_revenue', 'var':'var_revenue', 'std':'std_revenue'}) \n",
    "                .round()\n",
    ").reset_index()\n",
    "\n",
    "display(mean_one)"
   ]
  },
  {
   "cell_type": "markdown",
   "id": "5d9b5f74",
   "metadata": {},
   "source": [
    "## Анализ длительности звонков абонентов по тарифам"
   ]
  },
  {
   "cell_type": "code",
   "execution_count": 73,
   "id": "12468b17",
   "metadata": {},
   "outputs": [
    {
     "data": {
      "image/png": "[encoded data removed]",
      "text/plain": [
       "<Figure size 432x288 with 1 Axes>"
      ]
     },
     "metadata": {
      "needs_background": "light"
     },
     "output_type": "display_data"
    },
    {
     "data": {
      "image/png": "[encoded data removed]",
      "text/plain": [
       "<Figure size 432x288 with 1 Axes>"
      ]
     },
     "metadata": {
      "needs_background": "light"
     },
     "output_type": "display_data"
    }
   ],
   "source": [
    "# построю гистограмму по распределению длительности звонков для пользователей тарифа ULTRA\n",
    "(test\n",
    "    .query('tariff == \"ultra\" and calls_duration > 0')\n",
    "    .plot(y='calls_duration', \n",
    "          kind='hist', \n",
    "          bins=30,\n",
    "          title = 'Распределение длительности звонков среди пользователей тарифа ultra',\n",
    "          label='продолжительность звонков',\n",
    "          grid=True, color='#36AE7C')\n",
    ")\n",
    "# построю гистограмму по распределению длительности звонков для пользователей тарифа SMART\n",
    "(test\n",
    "    .query('tariff == \"smart\" and calls_duration > 0')\n",
    "    .plot(y='calls_duration', \n",
    "          kind='hist', \n",
    "          bins=30, \n",
    "          title='Распределение длительности звонков среди пользователей тарифа smart', \n",
    "          label='продолжительность звонков', \n",
    "          grid=True, color='#36AE7C')\n",
    ")\n",
    "\n",
    "plt.show()"
   ]
  },
  {
   "cell_type": "code",
   "execution_count": 51,
   "id": "c85a597a",
   "metadata": {},
   "outputs": [
    {
     "name": "stdout",
     "output_type": "stream",
     "text": [
      "Процент людей, которым недостаточно минут в тарифе ULTRA\n",
      "0.0\n",
      "Процент людей, которым недостаточно минут в тарифе SMART\n",
      "33.81165919282511\n"
     ]
    }
   ],
   "source": [
    "print('Процент людей, которым недостаточно минут в тарифе ULTRA')\n",
    "print(len(test.query('tariff == \"ultra\" and calls_duration > 3000')) / len(test.query('tariff == \"ultra\"')) * 100)\n",
    "print('Процент людей, которым недостаточно минут в тарифе SMART')\n",
    "print(len(test.query('tariff == \"smart\" and calls_duration > 500')) / len(test.query('tariff == \"smart\"')) * 100)"
   ]
  },
  {
   "cell_type": "markdown",
   "id": "51425aa1",
   "metadata": {},
   "source": [
    "**вывод**\n",
    "\n",
    "Исходя из двух гистограмм видно, что и для тарифа ultra  и для тарифа smart характерен скошеный вправо тип гистограмм.\n",
    "\n",
    "Очевидно, что пользователи тарифа ultra используют больше минут, поскольку в их тарифном плане включено больше минут. Однако, никто из пользователей тарифа ultra не использует 3000 минут, которые предусмотрены в тарифе.\n",
    "\n",
    "Для тарифа smart характерно следующее - примерно 34% пользователей недостаточно включенных в пакет минут. Они платят сверх пакета."
   ]
  },
  {
   "cell_type": "markdown",
   "id": "abc2d0d5",
   "metadata": {},
   "source": [
    "## Анализ смс активности пользователей"
   ]
  },
  {
   "cell_type": "code",
   "execution_count": 74,
   "id": "eea117a9",
   "metadata": {},
   "outputs": [
    {
     "data": {
      "image/png": "[encoded data removed]",
      "text/plain": [
       "<Figure size 432x288 with 1 Axes>"
      ]
     },
     "metadata": {
      "needs_background": "light"
     },
     "output_type": "display_data"
    },
    {
     "data": {
      "image/png": "[encoded data removed]",
      "text/plain": [
       "<Figure size 432x288 with 1 Axes>"
      ]
     },
     "metadata": {
      "needs_background": "light"
     },
     "output_type": "display_data"
    }
   ],
   "source": [
    "# построю гистограмму по распределению кол-ву смс для пользователей тарифа ULTRA\n",
    "(test\n",
    "    .query('tariff == \"ultra\"')\n",
    "    .plot(y='messages', \n",
    "          kind='hist', \n",
    "          bins=20,\n",
    "          title = 'Распределение количества смс среди пользователей тарифа ultra',\n",
    "          label='количество смс',\n",
    "          grid=True, color='#36AE7C')\n",
    ")\n",
    "# построю гистограмму по распределению кол-ву смс для пользователей тарифа SMART\n",
    "(test\n",
    "    .query('tariff == \"smart\"')\n",
    "    .plot(y='messages', \n",
    "          kind='hist', \n",
    "          bins=35,\n",
    "          title = 'Распределение количества смс среди пользователей тарифа smart',\n",
    "          label='количество смс',\n",
    "          grid=True, color='#36AE7C')\n",
    ")\n",
    "\n",
    "plt.show()"
   ]
  },
  {
   "cell_type": "code",
   "execution_count": 75,
   "id": "fe3a4d72",
   "metadata": {},
   "outputs": [
    {
     "data": {
      "image/png": "[encoded data removed]",
      "text/plain": [
       "<Figure size 432x288 with 1 Axes>"
      ]
     },
     "metadata": {
      "needs_background": "light"
     },
     "output_type": "display_data"
    },
    {
     "data": {
      "image/png": "[encoded data removed]",
      "text/plain": [
       "<Figure size 432x288 with 1 Axes>"
      ]
     },
     "metadata": {
      "needs_background": "light"
     },
     "output_type": "display_data"
    }
   ],
   "source": [
    "# построю диаграмму размаха для смс сообщений по двум тарифам\n",
    "(test\n",
    "    .query('tariff == \"ultra\"')\n",
    "    .boxplot('messages', color='#36AE7C'),\n",
    "         plt.title('Распределение смс для тарифа ULTRA'),\n",
    "         plt.ylabel('Частота')\n",
    ")\n",
    "plt.show()\n",
    "\n",
    "(test\n",
    "    .query('tariff == \"smart\"')\n",
    "    .boxplot('messages', color='#36AE7C'), \n",
    "         plt.title('Распределение смс для тарифа SMART'),\n",
    "         plt.ylabel('Частота')\n",
    ")\n",
    "\n",
    "plt.show()"
   ]
  },
  {
   "cell_type": "code",
   "execution_count": 54,
   "id": "b644562b",
   "metadata": {},
   "outputs": [
    {
     "name": "stdout",
     "output_type": "stream",
     "text": [
      "Процент людей, которым недостаточно смс в тарифе ULTRA\n",
      "0.0\n",
      "Процент людей, которым недостаточно смс в тарифе SMART\n",
      "25.291479820627806\n"
     ]
    }
   ],
   "source": [
    "print('Процент людей, которым недостаточно смс в тарифе ULTRA')\n",
    "print(len(test.query('tariff == \"ultra\" and messages > 1000')) / len(test.query('tariff == \"ultra\"')) * 100)\n",
    "print('Процент людей, которым недостаточно смс в тарифе SMART')\n",
    "print(len(test.query('tariff == \"smart\" and messages > 50')) / len(test.query('tariff == \"smart\"')) * 100)"
   ]
  },
  {
   "cell_type": "code",
   "execution_count": 55,
   "id": "a98a9c05",
   "metadata": {},
   "outputs": [
    {
     "name": "stdout",
     "output_type": "stream",
     "text": [
      "51.0\n",
      "34.0\n"
     ]
    }
   ],
   "source": [
    "print(test.query('tariff == \"ultra\"')['messages'].median())\n",
    "print(test.query('tariff == \"smart\"')['messages'].median())"
   ]
  },
  {
   "cell_type": "markdown",
   "id": "94a19201",
   "metadata": {},
   "source": [
    "**вывод**\n",
    "\n",
    "Исходя из данных получается что для тарифа ultra медианным значением сообщений является 51, при этом в пакете доступно 1000 сообщений, 0% из всех подключенных к этому тарифу выходили за этот лимит.\n",
    "\n",
    "Для тарифа smart в пакете доступно 50смс сообщений, при этом, для 25,3% всех абонентов 50 сообщений, включеных в пакет - недостаточно."
   ]
  },
  {
   "cell_type": "markdown",
   "id": "1827a0e8",
   "metadata": {},
   "source": [
    "## Анализ интернет активности пользователей"
   ]
  },
  {
   "cell_type": "code",
   "execution_count": 76,
   "id": "4388e4ae",
   "metadata": {},
   "outputs": [
    {
     "data": {
      "image/png": "[encoded data removed]",
      "text/plain": [
       "<Figure size 432x288 with 1 Axes>"
      ]
     },
     "metadata": {
      "needs_background": "light"
     },
     "output_type": "display_data"
    },
    {
     "data": {
      "image/png": "[encoded data removed]",
      "text/plain": [
       "<Figure size 432x288 with 1 Axes>"
      ]
     },
     "metadata": {
      "needs_background": "light"
     },
     "output_type": "display_data"
    }
   ],
   "source": [
    "(test\n",
    "    .query('tariff == \"ultra\"')\n",
    "    .plot(y='total_gb', \n",
    "          kind='hist', \n",
    "          bins=10,\n",
    "          title = 'Распределение трафика среди пользователей тарифа ultra',\n",
    "          label='гигабайты трафика',\n",
    "          grid=True, color='#36AE7C')\n",
    ")\n",
    "\n",
    "(test\n",
    "    .query('tariff == \"smart\"')\n",
    "    .plot(y='total_gb', \n",
    "          kind='hist', \n",
    "          bins=10,\n",
    "          title = 'Распределение трафика среди пользователей тарифа smart',\n",
    "          label='гигабайты трафика',\n",
    "          grid=True, color='#36AE7C')\n",
    ")\n",
    "\n",
    "plt.show()"
   ]
  },
  {
   "cell_type": "code",
   "execution_count": 57,
   "id": "be60f24b",
   "metadata": {},
   "outputs": [
    {
     "name": "stdout",
     "output_type": "stream",
     "text": [
      "Процент людей, которым недостаточно гб в тарифе ULTRA\n",
      "13.590263691683571\n",
      "Процент людей, которым недостаточно гб в тарифе SMART\n",
      "58.47533632286995\n"
     ]
    }
   ],
   "source": [
    "print('Процент людей, которым недостаточно гб в тарифе ULTRA')\n",
    "print(len(test.query('tariff == \"ultra\" and total_gb > 30')) / len(test.query('tariff == \"ultra\"')) * 100)\n",
    "print('Процент людей, которым недостаточно гб в тарифе SMART')\n",
    "print(len(test.query('tariff == \"smart\" and total_gb > 15')) / len(test.query('tariff == \"smart\"')) * 100)"
   ]
  },
  {
   "cell_type": "markdown",
   "id": "5b5a9816",
   "metadata": {},
   "source": [
    "**вывод**\n",
    "\n",
    "В тарифе ultra включено 30ГБ интеренета, при этом, исходя из данных, очевидно, что для 13,6% абонентов данного объема трафика недостаточно.\n",
    "\n",
    "в тарифе smart включено 15ГБ интерента, однако для 58,5% абонентов данного кол-ва интеренета недостаточно.\n"
   ]
  },
  {
   "cell_type": "markdown",
   "id": "95258f55",
   "metadata": {},
   "source": [
    "## Анализ выручки по тарифам"
   ]
  },
  {
   "cell_type": "code",
   "execution_count": 77,
   "id": "01250c29",
   "metadata": {},
   "outputs": [
    {
     "data": {
      "image/png": "[encoded data removed]",
      "text/plain": [
       "<Figure size 432x288 with 1 Axes>"
      ]
     },
     "metadata": {
      "needs_background": "light"
     },
     "output_type": "display_data"
    },
    {
     "data": {
      "image/png": "[encoded data removed]",
      "text/plain": [
       "<Figure size 432x288 with 1 Axes>"
      ]
     },
     "metadata": {
      "needs_background": "light"
     },
     "output_type": "display_data"
    }
   ],
   "source": [
    "(test\n",
    "    .query('tariff == \"ultra\"')\n",
    "    .plot(y='total_cost', \n",
    "          kind='hist', \n",
    "          bins=10,\n",
    "          title = 'Распределение прибыли среди пользователей тарифа ultra',\n",
    "          label='рубли',\n",
    "          grid=True, color='#36AE7C')\n",
    ")\n",
    "\n",
    "(test\n",
    "    .query('tariff == \"smart\"')\n",
    "    .plot(y='total_cost', \n",
    "          kind='hist', \n",
    "          bins=10,\n",
    "          title = 'Распределение прибыли среди пользователей тарифа smart',\n",
    "          label='рубли',\n",
    "          grid=True, color='#36AE7C')\n",
    ")\n",
    "\n",
    "plt.show()"
   ]
  },
  {
   "cell_type": "markdown",
   "id": "3c397507",
   "metadata": {},
   "source": [
    "если отсортировать данные по одному месяцу, и разделить на 2 датафрейма - по тарифу ULTRA  и SMART, и посмотреть сколько денег приносит конкретный человек за конкретный месяц, используя один из двух тарифов."
   ]
  },
  {
   "cell_type": "code",
   "execution_count": 59,
   "id": "a4f040a0",
   "metadata": {},
   "outputs": [],
   "source": [
    "# для начала сформирую 2 датафрейма\n",
    "ultra = (test\n",
    "        .query('tariff == \"ultra\" and month_x == 12')\n",
    "        .pivot_table(index=['user_id', 'tariff'], values='total_cost', aggfunc='mean')\n",
    "       )\n",
    "smart = (test\n",
    "        .query('tariff == \"smart\" and month_x == 12')\n",
    "        .pivot_table(index=['user_id', 'tariff'], values='total_cost', aggfunc='mean')\n",
    "       )\n"
   ]
  },
  {
   "cell_type": "code",
   "execution_count": 60,
   "id": "466f30df",
   "metadata": {},
   "outputs": [
    {
     "data": {
      "text/html": [
       "<div>\n",
       "<style scoped>\n",
       "    .dataframe tbody tr th:only-of-type {\n",
       "        vertical-align: middle;\n",
       "    }\n",
       "\n",
       "    .dataframe tbody tr th {\n",
       "        vertical-align: top;\n",
       "    }\n",
       "\n",
       "    .dataframe thead th {\n",
       "        text-align: right;\n",
       "    }\n",
       "</style>\n",
       "<table border=\"1\" class=\"dataframe\">\n",
       "  <thead>\n",
       "    <tr style=\"text-align: right;\">\n",
       "      <th></th>\n",
       "      <th>0</th>\n",
       "      <th>1</th>\n",
       "    </tr>\n",
       "  </thead>\n",
       "  <tbody>\n",
       "    <tr>\n",
       "      <th>0</th>\n",
       "      <td>Кол-во абонентов тарифа ULTRA</td>\n",
       "      <td>139.0</td>\n",
       "    </tr>\n",
       "    <tr>\n",
       "      <th>1</th>\n",
       "      <td>Кол-во абонентов тарифа SMART</td>\n",
       "      <td>337.0</td>\n",
       "    </tr>\n",
       "    <tr>\n",
       "      <th>2</th>\n",
       "      <td>Прибыль тарифа ULTRA за декабрь</td>\n",
       "      <td>297300.0</td>\n",
       "    </tr>\n",
       "    <tr>\n",
       "      <th>3</th>\n",
       "      <td>Прибыль тарифа SMART за декабрь</td>\n",
       "      <td>531965.0</td>\n",
       "    </tr>\n",
       "    <tr>\n",
       "      <th>4</th>\n",
       "      <td>Выручка тарифа ultra за год</td>\n",
       "      <td>2041050.0</td>\n",
       "    </tr>\n",
       "    <tr>\n",
       "      <th>5</th>\n",
       "      <td>Выручка тарифа smart за год</td>\n",
       "      <td>2875901.0</td>\n",
       "    </tr>\n",
       "  </tbody>\n",
       "</table>\n",
       "</div>"
      ],
      "text/plain": [
       "                                 0          1\n",
       "0    Кол-во абонентов тарифа ULTRA      139.0\n",
       "1    Кол-во абонентов тарифа SMART      337.0\n",
       "2  Прибыль тарифа ULTRA за декабрь   297300.0\n",
       "3  Прибыль тарифа SMART за декабрь   531965.0\n",
       "4      Выручка тарифа ultra за год  2041050.0\n",
       "5      Выручка тарифа smart за год  2875901.0"
      ]
     },
     "metadata": {},
     "output_type": "display_data"
    }
   ],
   "source": [
    "# сделаем таблицу, чтобы сравнить данные\n",
    "summary = pd.DataFrame(\n",
    "[['Кол-во абонентов тарифа ULTRA', len(ultra)],\n",
    "['Кол-во абонентов тарифа SMART', len(smart)],\n",
    "['Прибыль тарифа ULTRA за декабрь', ultra['total_cost'].sum()],\n",
    "['Прибыль тарифа SMART за декабрь', smart['total_cost'].sum()],\n",
    "['Выручка тарифа ultra за год', test.query('tariff==\"ultra\"')['total_cost'].sum()],\n",
    "['Выручка тарифа smart за год', test.query('tariff==\"smart\"')['total_cost'].sum()]]\n",
    ")\n",
    "display(summary)"
   ]
  },
  {
   "cell_type": "markdown",
   "id": "c8fded55",
   "metadata": {},
   "source": [
    "**вывод**\n",
    "\n",
    "Исходя из данных тариф SMART приносит больше прибыли, поскольку абонентская плата низкая, он становится привлекательным для абонентов, однако малый объем включеных в пакет услуг вынуждает пользователей платить сверх абонентской платы."
   ]
  },
  {
   "cell_type": "markdown",
   "id": "dc5ccf91",
   "metadata": {},
   "source": [
    "## ГИПОТЕЗА №1\n",
    "\n",
    "средняя выручка пользователей тарифов «Ультра» и «Смарт» различаются"
   ]
  },
  {
   "cell_type": "code",
   "execution_count": 61,
   "id": "6b744150",
   "metadata": {},
   "outputs": [
    {
     "data": {
      "text/html": [
       "<div>\n",
       "<style scoped>\n",
       "    .dataframe tbody tr th:only-of-type {\n",
       "        vertical-align: middle;\n",
       "    }\n",
       "\n",
       "    .dataframe tbody tr th {\n",
       "        vertical-align: top;\n",
       "    }\n",
       "\n",
       "    .dataframe thead th {\n",
       "        text-align: right;\n",
       "    }\n",
       "</style>\n",
       "<table border=\"1\" class=\"dataframe\">\n",
       "  <thead>\n",
       "    <tr style=\"text-align: right;\">\n",
       "      <th></th>\n",
       "      <th>mean_revenue</th>\n",
       "      <th>var_revenue</th>\n",
       "      <th>std_revenue</th>\n",
       "    </tr>\n",
       "    <tr>\n",
       "      <th>tariff</th>\n",
       "      <th></th>\n",
       "      <th></th>\n",
       "      <th></th>\n",
       "    </tr>\n",
       "  </thead>\n",
       "  <tbody>\n",
       "    <tr>\n",
       "      <th>smart</th>\n",
       "      <td>1290.0</td>\n",
       "      <td>818.0</td>\n",
       "      <td>669731.0</td>\n",
       "    </tr>\n",
       "    <tr>\n",
       "      <th>ultra</th>\n",
       "      <td>2070.0</td>\n",
       "      <td>376.0</td>\n",
       "      <td>141388.0</td>\n",
       "    </tr>\n",
       "  </tbody>\n",
       "</table>\n",
       "</div>"
      ],
      "text/plain": [
       "        mean_revenue  var_revenue  std_revenue\n",
       "tariff                                        \n",
       "smart         1290.0        818.0     669731.0\n",
       "ultra         2070.0        376.0     141388.0"
      ]
     },
     "execution_count": 61,
     "metadata": {},
     "output_type": "execute_result"
    }
   ],
   "source": [
    "# здесь мы считали средние выручки по двум тарифам\n",
    "mean"
   ]
  },
  {
   "cell_type": "markdown",
   "id": "ae4b7683",
   "metadata": {},
   "source": [
    "Средняя выручка тарифа smart - x1\n",
    "Средняя выручка тарифа ultra - x2\n",
    "\n",
    "* Ho: X2 - X1 = 0\n",
    "* H1: X2 - X1 ≠ 0\n",
    "\n",
    "* средние выручки тарифа smart и ultra равны\n",
    "* средние выручки тарифа smart и ultra не равны"
   ]
  },
  {
   "cell_type": "code",
   "execution_count": 62,
   "id": "ffe0fdda",
   "metadata": {},
   "outputs": [
    {
     "name": "stdout",
     "output_type": "stream",
     "text": [
      "Нулевая гипотеза: средние выручки тарифа smart и ultra равны\n",
      "p-значение  1.927011394420941e-250\n",
      "отвергаем нулевую гипотезу\n",
      "\n"
     ]
    }
   ],
   "source": [
    "print('Нулевая гипотеза: средние выручки тарифа smart и ultra равны')\n",
    "alpha = 0.01\n",
    "array1 = test.query('tariff == \"ultra\"')\n",
    "array2 = test.query('tariff == \"smart\"')\n",
    "results = st.ttest_ind(array1['total_cost'], array2['total_cost'], equal_var=False)\n",
    "# использую equal_var поскольку выборки разные по размеру \n",
    "print('p-значение ', results.pvalue)\n",
    "if results.pvalue < alpha:\n",
    "    print('отвергаем нулевую гипотезу')\n",
    "else:\n",
    "    print('нулевая гипотеза не отвергается')\n",
    "    \n",
    "print('')\n"
   ]
  },
  {
   "cell_type": "markdown",
   "id": "dd35faea",
   "metadata": {},
   "source": [
    "**вывод**\n",
    "\n",
    "Полученное значение p-value меньше значения статистической важности, то есть имеются все основания для того чтобы отвергнуть нулевую гипотезу."
   ]
  },
  {
   "cell_type": "markdown",
   "id": "c977b2a1",
   "metadata": {},
   "source": [
    "## ГИПОТЕЗА №2\n",
    "\n",
    "средняя выручка пользователей из Москвы отличается от выручки пользователей из других регионов.\n",
    "\n",
    "X1 - средняя выручка пользователей из Москвы\n",
    "X2 - средняя выручка пользователей других регионов\n",
    "\n",
    "* Ho - средняя выручка пользователей Москвы и других регионов равны \n",
    "* H1 - средняя выручка пользователей Москвы и других регионов не равны\n",
    "\n",
    "* Ho: X1 - X2 = 0\n",
    "* H1: X1 - X2 ≠ 0"
   ]
  },
  {
   "cell_type": "code",
   "execution_count": 63,
   "id": "8e7ee981",
   "metadata": {},
   "outputs": [
    {
     "name": "stdout",
     "output_type": "stream",
     "text": [
      "Нулевая гипотеза: средняя выручка пользователей Москвы и других регионов равны\n",
      "p-значение  0.5216952110000278\n",
      "нулевая гипотеза не отвергается\n",
      "\n"
     ]
    }
   ],
   "source": [
    "print('Нулевая гипотеза: средняя выручка пользователей Москвы и других регионов равны')\n",
    "\n",
    "alpha = 0.05\n",
    "array1 = test.query('city == \"Москва\"')\n",
    "array2 = test.query('city != \"Москва\"')\n",
    "results = st.ttest_ind(array1['total_cost'], array2['total_cost'], equal_var=False)\n",
    "# использую equal_var поскольку выборки разные по размеру \n",
    "print('p-значение ', results.pvalue)\n",
    "\n",
    "if results.pvalue < alpha:\n",
    "    print('отвергаем нулевую гипотезу')\n",
    "else:\n",
    "    print('нулевая гипотеза не отвергается')\n",
    "    \n",
    "print('')"
   ]
  },
  {
   "cell_type": "markdown",
   "id": "cbc6eab9",
   "metadata": {},
   "source": [
    "**вывод**\n",
    "\n",
    "С вероятностью более 50% мы можем получить такое или большее сходство между средними выручками пользователей из Москвы и других регионов. Таким образом, такое высокое значение p-value не позволяет сделать вывод о том что средние выручки пользователей различаются."
   ]
  },
  {
   "cell_type": "code",
   "execution_count": 78,
   "id": "dbc702b0",
   "metadata": {},
   "outputs": [
    {
     "data": {
      "image/png": "[encoded data removed]",
      "text/plain": [
       "<Figure size 1080x432 with 1 Axes>"
      ]
     },
     "metadata": {
      "needs_background": "light"
     },
     "output_type": "display_data"
    }
   ],
   "source": [
    "(test\n",
    " .pivot_table(index='city', \n",
    "              values='total_cost', \n",
    "              aggfunc='mean')\n",
    " .plot(kind='bar', figsize=(15,6), color='#36AE7C')\n",
    ")\n",
    "plt.show()"
   ]
  },
  {
   "cell_type": "markdown",
   "id": "ee747035",
   "metadata": {},
   "source": [
    "**ОБЩИЙ ВЫВОД**\n",
    "\n",
    "**ТАРИФ ULTRA**\n",
    "\n",
    "В среднем данный тариф приносит 2070 рублей в месяц.\n",
    "\n",
    "При этом:\n",
    "* 100% пользователей не истрачивают включеные в пакет минуты\n",
    "* 100% пользователей не истрачивают включеные в пакет смс сообщения\n",
    "* 13,6% пользователям не хватает включеных в пакет гигабайтов\n",
    "\n",
    "**ТАРИФ SMART**\n",
    "\n",
    "В среднем данный тариф приносит 868 рублей в месяц.\n",
    "\n",
    "При этом:\n",
    "* 34% пользователей не хватает включенных в пакет минут\n",
    "* 25,3% пользователей не хватает включеных в тариф смс сообщений\n",
    "* 58,5% пользователей не хватает включеных в пакет гигабайтов\n",
    "\n",
    "**ГИПОТЕЗА 1**\n",
    "\n",
    "Средняя выручка тарифа smart - x1\n",
    "Средняя выручка тарифа ultra - x2\n",
    "\n",
    "* Ho: X2 - X1 = 0\n",
    "* H1: X2 - X1 ≠ 0\n",
    "\n",
    "* средняя выручка тарифа ultra и тарифа smart равна \n",
    "* средняя выручка тарифа ultra и тарифа smart не равна \n",
    "\n",
    "Полученное p-value значительно ниже статистически значимой величины, которую мы задали. Таким образом у нас есть основания для того чтобы отвергнуть нулевую гипотезу.\n",
    "\n",
    "**ГИПОТЕЗА 2**\n",
    "\n",
    "X1 - средняя выручка пользователей из Москвы\n",
    "X2 - средняя выручка пользователей других регионов\n",
    "\n",
    "* Ho - средняя выручка пользователей Москвы и других регионов равны \n",
    "* H1 - средняя выручка пользователей Москвы и других регионов не равны\n",
    "\n",
    "* Ho: X1 - X2 = 0\n",
    "* H1: X1 - X2 ≠ 0\n",
    "\n",
    "Полученное p-value равно >50%, это слишком большая вероятность получить такое различие случайно. Это значение слишком велико чтобы говорить о значимых различиях двух средних выручек."
   ]
  }
 ],
 "metadata": {
  "ExecuteTimeLog": [
   {
    "duration": 233,
    "start_time": "2022-03-22T17:04:04.469Z"
   },
   {
    "duration": 217,
    "start_time": "2022-03-22T17:04:33.489Z"
   },
   {
    "duration": 66,
    "start_time": "2022-03-22T17:05:31.515Z"
   },
   {
    "duration": 1494,
    "start_time": "2022-03-22T17:06:01.862Z"
   },
   {
    "duration": 225,
    "start_time": "2022-03-22T17:06:03.358Z"
   },
   {
    "duration": 36,
    "start_time": "2022-03-22T17:06:03.586Z"
   },
   {
    "duration": 4359,
    "start_time": "2022-03-22T17:06:03.644Z"
   },
   {
    "duration": 0,
    "start_time": "2022-03-22T17:06:08.008Z"
   },
   {
    "duration": 0,
    "start_time": "2022-03-22T17:06:08.010Z"
   },
   {
    "duration": 0,
    "start_time": "2022-03-22T17:06:08.011Z"
   },
   {
    "duration": 0,
    "start_time": "2022-03-22T17:06:08.013Z"
   },
   {
    "duration": 0,
    "start_time": "2022-03-22T17:06:08.014Z"
   },
   {
    "duration": 0,
    "start_time": "2022-03-22T17:06:08.016Z"
   },
   {
    "duration": 0,
    "start_time": "2022-03-22T17:06:08.018Z"
   },
   {
    "duration": 0,
    "start_time": "2022-03-22T17:06:08.019Z"
   },
   {
    "duration": 0,
    "start_time": "2022-03-22T17:06:08.021Z"
   },
   {
    "duration": 0,
    "start_time": "2022-03-22T17:06:08.022Z"
   },
   {
    "duration": 0,
    "start_time": "2022-03-22T17:06:08.024Z"
   },
   {
    "duration": 0,
    "start_time": "2022-03-22T17:06:08.025Z"
   },
   {
    "duration": 0,
    "start_time": "2022-03-22T17:06:08.027Z"
   },
   {
    "duration": 0,
    "start_time": "2022-03-22T17:06:08.029Z"
   },
   {
    "duration": 0,
    "start_time": "2022-03-22T17:06:08.030Z"
   },
   {
    "duration": 1,
    "start_time": "2022-03-22T17:06:08.031Z"
   },
   {
    "duration": 0,
    "start_time": "2022-03-22T17:06:08.033Z"
   },
   {
    "duration": 0,
    "start_time": "2022-03-22T17:06:08.034Z"
   },
   {
    "duration": 0,
    "start_time": "2022-03-22T17:06:08.036Z"
   },
   {
    "duration": 0,
    "start_time": "2022-03-22T17:06:08.037Z"
   },
   {
    "duration": 0,
    "start_time": "2022-03-22T17:06:08.039Z"
   },
   {
    "duration": 0,
    "start_time": "2022-03-22T17:06:08.040Z"
   },
   {
    "duration": 0,
    "start_time": "2022-03-22T17:06:08.042Z"
   },
   {
    "duration": 0,
    "start_time": "2022-03-22T17:06:08.043Z"
   },
   {
    "duration": 0,
    "start_time": "2022-03-22T17:06:08.044Z"
   },
   {
    "duration": 0,
    "start_time": "2022-03-22T17:06:08.046Z"
   },
   {
    "duration": 0,
    "start_time": "2022-03-22T17:06:08.047Z"
   },
   {
    "duration": 0,
    "start_time": "2022-03-22T17:06:08.048Z"
   },
   {
    "duration": 0,
    "start_time": "2022-03-22T17:06:08.050Z"
   },
   {
    "duration": 0,
    "start_time": "2022-03-22T17:06:08.051Z"
   },
   {
    "duration": 0,
    "start_time": "2022-03-22T17:06:08.053Z"
   },
   {
    "duration": 0,
    "start_time": "2022-03-22T17:06:08.055Z"
   },
   {
    "duration": 0,
    "start_time": "2022-03-22T17:06:08.056Z"
   },
   {
    "duration": 0,
    "start_time": "2022-03-22T17:06:08.057Z"
   },
   {
    "duration": 0,
    "start_time": "2022-03-22T17:06:08.059Z"
   },
   {
    "duration": 0,
    "start_time": "2022-03-22T17:06:08.060Z"
   },
   {
    "duration": 0,
    "start_time": "2022-03-22T17:06:08.061Z"
   },
   {
    "duration": 0,
    "start_time": "2022-03-22T17:06:08.063Z"
   },
   {
    "duration": 0,
    "start_time": "2022-03-22T17:06:08.064Z"
   },
   {
    "duration": 0,
    "start_time": "2022-03-22T17:06:08.065Z"
   },
   {
    "duration": 0,
    "start_time": "2022-03-22T17:06:08.066Z"
   },
   {
    "duration": 0,
    "start_time": "2022-03-22T17:06:08.067Z"
   },
   {
    "duration": 0,
    "start_time": "2022-03-22T17:06:08.069Z"
   },
   {
    "duration": 0,
    "start_time": "2022-03-22T17:06:08.070Z"
   },
   {
    "duration": 0,
    "start_time": "2022-03-22T17:06:08.072Z"
   },
   {
    "duration": 0,
    "start_time": "2022-03-22T17:06:08.074Z"
   },
   {
    "duration": 0,
    "start_time": "2022-03-22T17:06:08.075Z"
   },
   {
    "duration": 0,
    "start_time": "2022-03-22T17:06:08.076Z"
   },
   {
    "duration": 0,
    "start_time": "2022-03-22T17:06:08.078Z"
   },
   {
    "duration": 423,
    "start_time": "2022-03-22T17:08:05.584Z"
   },
   {
    "duration": 1597,
    "start_time": "2022-03-22T17:08:25.620Z"
   },
   {
    "duration": 183,
    "start_time": "2022-03-22T17:08:27.220Z"
   },
   {
    "duration": 0,
    "start_time": "2022-03-22T17:08:27.409Z"
   },
   {
    "duration": 0,
    "start_time": "2022-03-22T17:08:27.410Z"
   },
   {
    "duration": 0,
    "start_time": "2022-03-22T17:08:27.412Z"
   },
   {
    "duration": 0,
    "start_time": "2022-03-22T17:08:27.415Z"
   },
   {
    "duration": 0,
    "start_time": "2022-03-22T17:08:27.417Z"
   },
   {
    "duration": 0,
    "start_time": "2022-03-22T17:08:27.419Z"
   },
   {
    "duration": 0,
    "start_time": "2022-03-22T17:08:27.442Z"
   },
   {
    "duration": 0,
    "start_time": "2022-03-22T17:08:27.444Z"
   },
   {
    "duration": 0,
    "start_time": "2022-03-22T17:08:27.446Z"
   },
   {
    "duration": 0,
    "start_time": "2022-03-22T17:08:27.447Z"
   },
   {
    "duration": 0,
    "start_time": "2022-03-22T17:08:27.448Z"
   },
   {
    "duration": 0,
    "start_time": "2022-03-22T17:08:27.450Z"
   },
   {
    "duration": 0,
    "start_time": "2022-03-22T17:08:27.451Z"
   },
   {
    "duration": 0,
    "start_time": "2022-03-22T17:08:27.452Z"
   },
   {
    "duration": 0,
    "start_time": "2022-03-22T17:08:27.454Z"
   },
   {
    "duration": 0,
    "start_time": "2022-03-22T17:08:27.455Z"
   },
   {
    "duration": 0,
    "start_time": "2022-03-22T17:08:27.457Z"
   },
   {
    "duration": 0,
    "start_time": "2022-03-22T17:08:27.459Z"
   },
   {
    "duration": 0,
    "start_time": "2022-03-22T17:08:27.460Z"
   },
   {
    "duration": 0,
    "start_time": "2022-03-22T17:08:27.462Z"
   },
   {
    "duration": 0,
    "start_time": "2022-03-22T17:08:27.464Z"
   },
   {
    "duration": 0,
    "start_time": "2022-03-22T17:08:27.465Z"
   },
   {
    "duration": 0,
    "start_time": "2022-03-22T17:08:27.467Z"
   },
   {
    "duration": 0,
    "start_time": "2022-03-22T17:08:27.468Z"
   },
   {
    "duration": 0,
    "start_time": "2022-03-22T17:08:27.469Z"
   },
   {
    "duration": 0,
    "start_time": "2022-03-22T17:08:27.471Z"
   },
   {
    "duration": 0,
    "start_time": "2022-03-22T17:08:27.475Z"
   },
   {
    "duration": 0,
    "start_time": "2022-03-22T17:08:27.476Z"
   },
   {
    "duration": 0,
    "start_time": "2022-03-22T17:08:27.479Z"
   },
   {
    "duration": 0,
    "start_time": "2022-03-22T17:08:27.543Z"
   },
   {
    "duration": 0,
    "start_time": "2022-03-22T17:08:27.546Z"
   },
   {
    "duration": 0,
    "start_time": "2022-03-22T17:08:27.547Z"
   },
   {
    "duration": 0,
    "start_time": "2022-03-22T17:08:27.548Z"
   },
   {
    "duration": 0,
    "start_time": "2022-03-22T17:08:27.550Z"
   },
   {
    "duration": 0,
    "start_time": "2022-03-22T17:08:27.551Z"
   },
   {
    "duration": 0,
    "start_time": "2022-03-22T17:08:27.553Z"
   },
   {
    "duration": 0,
    "start_time": "2022-03-22T17:08:27.555Z"
   },
   {
    "duration": 0,
    "start_time": "2022-03-22T17:08:27.557Z"
   },
   {
    "duration": 0,
    "start_time": "2022-03-22T17:08:27.558Z"
   },
   {
    "duration": 0,
    "start_time": "2022-03-22T17:08:27.560Z"
   },
   {
    "duration": 0,
    "start_time": "2022-03-22T17:08:27.561Z"
   },
   {
    "duration": 0,
    "start_time": "2022-03-22T17:08:27.563Z"
   },
   {
    "duration": 0,
    "start_time": "2022-03-22T17:08:27.564Z"
   },
   {
    "duration": 0,
    "start_time": "2022-03-22T17:08:27.566Z"
   },
   {
    "duration": 0,
    "start_time": "2022-03-22T17:08:27.567Z"
   },
   {
    "duration": 0,
    "start_time": "2022-03-22T17:08:27.569Z"
   },
   {
    "duration": 0,
    "start_time": "2022-03-22T17:08:27.571Z"
   },
   {
    "duration": 0,
    "start_time": "2022-03-22T17:08:27.572Z"
   },
   {
    "duration": 0,
    "start_time": "2022-03-22T17:08:27.573Z"
   },
   {
    "duration": 0,
    "start_time": "2022-03-22T17:08:27.575Z"
   },
   {
    "duration": 0,
    "start_time": "2022-03-22T17:08:27.576Z"
   },
   {
    "duration": 66,
    "start_time": "2022-03-22T17:09:00.202Z"
   },
   {
    "duration": 1543,
    "start_time": "2022-03-22T17:09:06.320Z"
   },
   {
    "duration": 66,
    "start_time": "2022-03-22T17:09:07.866Z"
   },
   {
    "duration": 17,
    "start_time": "2022-03-22T17:09:07.934Z"
   },
   {
    "duration": 9,
    "start_time": "2022-03-22T17:09:07.954Z"
   },
   {
    "duration": 16,
    "start_time": "2022-03-22T17:09:07.967Z"
   },
   {
    "duration": 8,
    "start_time": "2022-03-22T17:09:07.986Z"
   },
   {
    "duration": 6,
    "start_time": "2022-03-22T17:09:07.996Z"
   },
   {
    "duration": 42,
    "start_time": "2022-03-22T17:09:08.004Z"
   },
   {
    "duration": 10,
    "start_time": "2022-03-22T17:09:08.048Z"
   },
   {
    "duration": 231,
    "start_time": "2022-03-22T17:09:08.060Z"
   },
   {
    "duration": 26,
    "start_time": "2022-03-22T17:09:08.293Z"
   },
   {
    "duration": 53,
    "start_time": "2022-03-22T17:09:08.321Z"
   },
   {
    "duration": 6,
    "start_time": "2022-03-22T17:09:08.376Z"
   },
   {
    "duration": 95,
    "start_time": "2022-03-22T17:09:08.386Z"
   },
   {
    "duration": 166,
    "start_time": "2022-03-22T17:09:08.484Z"
   },
   {
    "duration": 53,
    "start_time": "2022-03-22T17:09:08.653Z"
   },
   {
    "duration": 139,
    "start_time": "2022-03-22T17:09:08.708Z"
   },
   {
    "duration": 26,
    "start_time": "2022-03-22T17:09:08.850Z"
   },
   {
    "duration": 21,
    "start_time": "2022-03-22T17:09:08.878Z"
   },
   {
    "duration": 83,
    "start_time": "2022-03-22T17:09:08.902Z"
   },
   {
    "duration": 90,
    "start_time": "2022-03-22T17:09:08.987Z"
   },
   {
    "duration": 29,
    "start_time": "2022-03-22T17:09:09.079Z"
   },
   {
    "duration": 183,
    "start_time": "2022-03-22T17:09:09.111Z"
   },
   {
    "duration": 46,
    "start_time": "2022-03-22T17:09:09.297Z"
   },
   {
    "duration": 6,
    "start_time": "2022-03-22T17:09:09.345Z"
   },
   {
    "duration": 13,
    "start_time": "2022-03-22T17:09:09.354Z"
   },
   {
    "duration": 66,
    "start_time": "2022-03-22T17:09:09.369Z"
   },
   {
    "duration": 33,
    "start_time": "2022-03-22T17:09:09.442Z"
   },
   {
    "duration": 25,
    "start_time": "2022-03-22T17:09:09.477Z"
   },
   {
    "duration": 15,
    "start_time": "2022-03-22T17:09:09.504Z"
   },
   {
    "duration": 22,
    "start_time": "2022-03-22T17:09:09.521Z"
   },
   {
    "duration": 19,
    "start_time": "2022-03-22T17:09:09.545Z"
   },
   {
    "duration": 45,
    "start_time": "2022-03-22T17:09:09.566Z"
   },
   {
    "duration": 13,
    "start_time": "2022-03-22T17:09:09.613Z"
   },
   {
    "duration": 11,
    "start_time": "2022-03-22T17:09:09.642Z"
   },
   {
    "duration": 30,
    "start_time": "2022-03-22T17:09:09.655Z"
   },
   {
    "duration": 10,
    "start_time": "2022-03-22T17:09:09.687Z"
   },
   {
    "duration": 13,
    "start_time": "2022-03-22T17:09:09.699Z"
   },
   {
    "duration": 216,
    "start_time": "2022-03-22T17:09:09.714Z"
   },
   {
    "duration": 46,
    "start_time": "2022-03-22T17:09:09.933Z"
   },
   {
    "duration": 646,
    "start_time": "2022-03-22T17:09:09.985Z"
   },
   {
    "duration": 25,
    "start_time": "2022-03-22T17:09:10.642Z"
   },
   {
    "duration": 610,
    "start_time": "2022-03-22T17:09:10.669Z"
   },
   {
    "duration": 397,
    "start_time": "2022-03-22T17:09:11.282Z"
   },
   {
    "duration": 22,
    "start_time": "2022-03-22T17:09:11.681Z"
   },
   {
    "duration": 574,
    "start_time": "2022-03-22T17:09:11.705Z"
   },
   {
    "duration": 22,
    "start_time": "2022-03-22T17:09:12.282Z"
   },
   {
    "duration": 661,
    "start_time": "2022-03-22T17:09:12.306Z"
   },
   {
    "duration": 31,
    "start_time": "2022-03-22T17:09:12.969Z"
   },
   {
    "duration": 15,
    "start_time": "2022-03-22T17:09:13.002Z"
   },
   {
    "duration": 16,
    "start_time": "2022-03-22T17:09:13.043Z"
   },
   {
    "duration": 17,
    "start_time": "2022-03-22T17:09:13.062Z"
   },
   {
    "duration": 1996,
    "start_time": "2022-03-22T17:09:13.082Z"
   },
   {
    "duration": 254,
    "start_time": "2022-03-22T17:11:16.049Z"
   },
   {
    "duration": 218,
    "start_time": "2022-03-22T17:18:18.198Z"
   },
   {
    "duration": 263,
    "start_time": "2022-03-22T17:23:23.035Z"
   },
   {
    "duration": 7,
    "start_time": "2022-03-22T17:25:40.078Z"
   },
   {
    "duration": 6,
    "start_time": "2022-03-22T17:26:50.137Z"
   },
   {
    "duration": 21,
    "start_time": "2022-03-22T17:28:04.692Z"
   },
   {
    "duration": 15,
    "start_time": "2022-03-22T17:29:45.601Z"
   },
   {
    "duration": 23,
    "start_time": "2022-03-22T17:29:50.401Z"
   },
   {
    "duration": 1573,
    "start_time": "2022-03-22T17:33:07.893Z"
   },
   {
    "duration": 69,
    "start_time": "2022-03-22T17:33:09.468Z"
   },
   {
    "duration": 18,
    "start_time": "2022-03-22T17:33:09.540Z"
   },
   {
    "duration": 9,
    "start_time": "2022-03-22T17:33:09.561Z"
   },
   {
    "duration": 30,
    "start_time": "2022-03-22T17:33:09.574Z"
   },
   {
    "duration": 38,
    "start_time": "2022-03-22T17:33:09.607Z"
   },
   {
    "duration": 4,
    "start_time": "2022-03-22T17:33:09.648Z"
   },
   {
    "duration": 12,
    "start_time": "2022-03-22T17:33:09.655Z"
   },
   {
    "duration": 18,
    "start_time": "2022-03-22T17:33:09.669Z"
   },
   {
    "duration": 245,
    "start_time": "2022-03-22T17:33:09.690Z"
   },
   {
    "duration": 31,
    "start_time": "2022-03-22T17:33:09.937Z"
   },
   {
    "duration": 37,
    "start_time": "2022-03-22T17:33:09.970Z"
   },
   {
    "duration": 37,
    "start_time": "2022-03-22T17:33:10.010Z"
   },
   {
    "duration": 90,
    "start_time": "2022-03-22T17:33:10.053Z"
   },
   {
    "duration": 169,
    "start_time": "2022-03-22T17:33:10.146Z"
   },
   {
    "duration": 68,
    "start_time": "2022-03-22T17:33:10.317Z"
   },
   {
    "duration": 148,
    "start_time": "2022-03-22T17:33:10.387Z"
   },
   {
    "duration": 29,
    "start_time": "2022-03-22T17:33:10.538Z"
   },
   {
    "duration": 23,
    "start_time": "2022-03-22T17:33:10.570Z"
   },
   {
    "duration": 104,
    "start_time": "2022-03-22T17:33:10.595Z"
   },
   {
    "duration": 76,
    "start_time": "2022-03-22T17:33:10.702Z"
   },
   {
    "duration": 30,
    "start_time": "2022-03-22T17:33:10.780Z"
   },
   {
    "duration": 205,
    "start_time": "2022-03-22T17:33:10.813Z"
   },
   {
    "duration": 57,
    "start_time": "2022-03-22T17:33:11.021Z"
   },
   {
    "duration": 8,
    "start_time": "2022-03-22T17:33:11.081Z"
   },
   {
    "duration": 14,
    "start_time": "2022-03-22T17:33:11.092Z"
   },
   {
    "duration": 101,
    "start_time": "2022-03-22T17:33:11.109Z"
   },
   {
    "duration": 57,
    "start_time": "2022-03-22T17:33:11.214Z"
   },
   {
    "duration": 33,
    "start_time": "2022-03-22T17:33:11.274Z"
   },
   {
    "duration": 23,
    "start_time": "2022-03-22T17:33:11.309Z"
   },
   {
    "duration": 11,
    "start_time": "2022-03-22T17:33:11.344Z"
   },
   {
    "duration": 9,
    "start_time": "2022-03-22T17:33:11.358Z"
   },
   {
    "duration": 75,
    "start_time": "2022-03-22T17:33:11.371Z"
   },
   {
    "duration": 5275,
    "start_time": "2022-03-22T17:33:11.448Z"
   },
   {
    "duration": 0,
    "start_time": "2022-03-22T17:33:16.728Z"
   },
   {
    "duration": 0,
    "start_time": "2022-03-22T17:33:16.731Z"
   },
   {
    "duration": 0,
    "start_time": "2022-03-22T17:33:16.732Z"
   },
   {
    "duration": 0,
    "start_time": "2022-03-22T17:33:16.734Z"
   },
   {
    "duration": 0,
    "start_time": "2022-03-22T17:33:16.736Z"
   },
   {
    "duration": 0,
    "start_time": "2022-03-22T17:33:16.738Z"
   },
   {
    "duration": 0,
    "start_time": "2022-03-22T17:33:16.740Z"
   },
   {
    "duration": 0,
    "start_time": "2022-03-22T17:33:16.741Z"
   },
   {
    "duration": 0,
    "start_time": "2022-03-22T17:33:16.743Z"
   },
   {
    "duration": 0,
    "start_time": "2022-03-22T17:33:16.745Z"
   },
   {
    "duration": 0,
    "start_time": "2022-03-22T17:33:16.747Z"
   },
   {
    "duration": 1,
    "start_time": "2022-03-22T17:33:16.748Z"
   },
   {
    "duration": 0,
    "start_time": "2022-03-22T17:33:16.751Z"
   },
   {
    "duration": 0,
    "start_time": "2022-03-22T17:33:16.753Z"
   },
   {
    "duration": 0,
    "start_time": "2022-03-22T17:33:16.755Z"
   },
   {
    "duration": 0,
    "start_time": "2022-03-22T17:33:16.757Z"
   },
   {
    "duration": 0,
    "start_time": "2022-03-22T17:33:16.759Z"
   },
   {
    "duration": 0,
    "start_time": "2022-03-22T17:33:16.761Z"
   },
   {
    "duration": 0,
    "start_time": "2022-03-22T17:33:16.764Z"
   },
   {
    "duration": 0,
    "start_time": "2022-03-22T17:33:16.765Z"
   },
   {
    "duration": 0,
    "start_time": "2022-03-22T17:33:16.766Z"
   },
   {
    "duration": 1592,
    "start_time": "2022-03-22T17:34:07.482Z"
   },
   {
    "duration": 78,
    "start_time": "2022-03-22T17:34:09.078Z"
   },
   {
    "duration": 23,
    "start_time": "2022-03-22T17:34:09.158Z"
   },
   {
    "duration": 9,
    "start_time": "2022-03-22T17:34:09.184Z"
   },
   {
    "duration": 50,
    "start_time": "2022-03-22T17:34:09.197Z"
   },
   {
    "duration": 12,
    "start_time": "2022-03-22T17:34:09.250Z"
   },
   {
    "duration": 11,
    "start_time": "2022-03-22T17:34:09.265Z"
   },
   {
    "duration": 9,
    "start_time": "2022-03-22T17:34:09.279Z"
   },
   {
    "duration": 10,
    "start_time": "2022-03-22T17:34:09.291Z"
   },
   {
    "duration": 255,
    "start_time": "2022-03-22T17:34:09.304Z"
   },
   {
    "duration": 28,
    "start_time": "2022-03-22T17:34:09.561Z"
   },
   {
    "duration": 60,
    "start_time": "2022-03-22T17:34:09.591Z"
   },
   {
    "duration": 7,
    "start_time": "2022-03-22T17:34:09.653Z"
   },
   {
    "duration": 95,
    "start_time": "2022-03-22T17:34:09.665Z"
   },
   {
    "duration": 179,
    "start_time": "2022-03-22T17:34:09.763Z"
   },
   {
    "duration": 67,
    "start_time": "2022-03-22T17:34:09.944Z"
   },
   {
    "duration": 161,
    "start_time": "2022-03-22T17:34:10.013Z"
   },
   {
    "duration": 29,
    "start_time": "2022-03-22T17:34:10.177Z"
   },
   {
    "duration": 157,
    "start_time": "2022-03-22T17:34:10.209Z"
   },
   {
    "duration": 64,
    "start_time": "2022-03-22T17:34:10.368Z"
   },
   {
    "duration": 77,
    "start_time": "2022-03-22T17:34:10.435Z"
   },
   {
    "duration": 49,
    "start_time": "2022-03-22T17:34:10.514Z"
   },
   {
    "duration": 283,
    "start_time": "2022-03-22T17:34:10.566Z"
   },
   {
    "duration": 29,
    "start_time": "2022-03-22T17:34:10.852Z"
   },
   {
    "duration": 6,
    "start_time": "2022-03-22T17:34:10.883Z"
   },
   {
    "duration": 5,
    "start_time": "2022-03-22T17:34:10.892Z"
   },
   {
    "duration": 86,
    "start_time": "2022-03-22T17:34:10.899Z"
   },
   {
    "duration": 56,
    "start_time": "2022-03-22T17:34:10.987Z"
   },
   {
    "duration": 27,
    "start_time": "2022-03-22T17:34:11.045Z"
   },
   {
    "duration": 17,
    "start_time": "2022-03-22T17:34:11.075Z"
   },
   {
    "duration": 13,
    "start_time": "2022-03-22T17:34:11.094Z"
   },
   {
    "duration": 6,
    "start_time": "2022-03-22T17:34:11.110Z"
   },
   {
    "duration": 55,
    "start_time": "2022-03-22T17:34:11.118Z"
   },
   {
    "duration": 14,
    "start_time": "2022-03-22T17:34:11.175Z"
   },
   {
    "duration": 29,
    "start_time": "2022-03-22T17:34:11.191Z"
   },
   {
    "duration": 40,
    "start_time": "2022-03-22T17:34:11.222Z"
   },
   {
    "duration": 12,
    "start_time": "2022-03-22T17:34:11.264Z"
   },
   {
    "duration": 11,
    "start_time": "2022-03-22T17:34:11.279Z"
   },
   {
    "duration": 9,
    "start_time": "2022-03-22T17:34:11.293Z"
   },
   {
    "duration": 180,
    "start_time": "2022-03-22T17:34:11.305Z"
   },
   {
    "duration": 0,
    "start_time": "2022-03-22T17:34:11.488Z"
   },
   {
    "duration": 0,
    "start_time": "2022-03-22T17:34:11.490Z"
   },
   {
    "duration": 0,
    "start_time": "2022-03-22T17:34:11.492Z"
   },
   {
    "duration": 0,
    "start_time": "2022-03-22T17:34:11.493Z"
   },
   {
    "duration": 0,
    "start_time": "2022-03-22T17:34:11.495Z"
   },
   {
    "duration": 0,
    "start_time": "2022-03-22T17:34:11.496Z"
   },
   {
    "duration": 0,
    "start_time": "2022-03-22T17:34:11.497Z"
   },
   {
    "duration": 0,
    "start_time": "2022-03-22T17:34:11.499Z"
   },
   {
    "duration": 0,
    "start_time": "2022-03-22T17:34:11.500Z"
   },
   {
    "duration": 0,
    "start_time": "2022-03-22T17:34:11.502Z"
   },
   {
    "duration": 0,
    "start_time": "2022-03-22T17:34:11.504Z"
   },
   {
    "duration": 0,
    "start_time": "2022-03-22T17:34:11.506Z"
   },
   {
    "duration": 0,
    "start_time": "2022-03-22T17:34:11.507Z"
   },
   {
    "duration": 0,
    "start_time": "2022-03-22T17:34:11.508Z"
   },
   {
    "duration": 0,
    "start_time": "2022-03-22T17:34:11.543Z"
   },
   {
    "duration": 194,
    "start_time": "2022-03-22T17:34:41.635Z"
   },
   {
    "duration": 41,
    "start_time": "2022-03-22T17:34:45.899Z"
   },
   {
    "duration": 22,
    "start_time": "2022-03-22T17:35:24.037Z"
   },
   {
    "duration": 7,
    "start_time": "2022-03-22T17:35:39.333Z"
   },
   {
    "duration": 13,
    "start_time": "2022-03-22T17:36:35.017Z"
   },
   {
    "duration": 200,
    "start_time": "2022-03-22T17:36:40.343Z"
   },
   {
    "duration": 6,
    "start_time": "2022-03-22T17:36:41.814Z"
   },
   {
    "duration": 10,
    "start_time": "2022-03-22T17:37:02.481Z"
   },
   {
    "duration": 8,
    "start_time": "2022-03-22T17:37:06.680Z"
   },
   {
    "duration": 198,
    "start_time": "2022-03-22T17:37:09.503Z"
   },
   {
    "duration": 9,
    "start_time": "2022-03-22T17:37:10.609Z"
   },
   {
    "duration": 11,
    "start_time": "2022-03-22T17:38:14.972Z"
   },
   {
    "duration": 10,
    "start_time": "2022-03-22T17:39:45.874Z"
   },
   {
    "duration": 248,
    "start_time": "2022-03-22T17:39:55.103Z"
   },
   {
    "duration": 7,
    "start_time": "2022-03-22T17:39:56.631Z"
   },
   {
    "duration": 39,
    "start_time": "2022-03-22T17:40:54.833Z"
   },
   {
    "duration": 11,
    "start_time": "2022-03-22T17:41:01.410Z"
   },
   {
    "duration": 202,
    "start_time": "2022-03-22T17:42:04.611Z"
   },
   {
    "duration": 6,
    "start_time": "2022-03-22T17:42:06.659Z"
   },
   {
    "duration": 20,
    "start_time": "2022-03-22T17:42:10.396Z"
   },
   {
    "duration": 1714,
    "start_time": "2022-03-22T17:42:24.939Z"
   },
   {
    "duration": 104,
    "start_time": "2022-03-22T17:42:26.656Z"
   },
   {
    "duration": 17,
    "start_time": "2022-03-22T17:42:26.762Z"
   },
   {
    "duration": 10,
    "start_time": "2022-03-22T17:42:26.782Z"
   },
   {
    "duration": 18,
    "start_time": "2022-03-22T17:42:26.795Z"
   },
   {
    "duration": 36,
    "start_time": "2022-03-22T17:42:26.815Z"
   },
   {
    "duration": 8,
    "start_time": "2022-03-22T17:42:26.853Z"
   },
   {
    "duration": 8,
    "start_time": "2022-03-22T17:42:26.863Z"
   },
   {
    "duration": 10,
    "start_time": "2022-03-22T17:42:26.874Z"
   },
   {
    "duration": 779,
    "start_time": "2022-03-22T17:42:26.887Z"
   },
   {
    "duration": 26,
    "start_time": "2022-03-22T17:42:27.668Z"
   },
   {
    "duration": 58,
    "start_time": "2022-03-22T17:42:27.696Z"
   },
   {
    "duration": 6,
    "start_time": "2022-03-22T17:42:27.756Z"
   },
   {
    "duration": 94,
    "start_time": "2022-03-22T17:42:27.767Z"
   },
   {
    "duration": 179,
    "start_time": "2022-03-22T17:42:27.864Z"
   },
   {
    "duration": 61,
    "start_time": "2022-03-22T17:42:28.045Z"
   },
   {
    "duration": 421,
    "start_time": "2022-03-22T17:42:28.108Z"
   },
   {
    "duration": 31,
    "start_time": "2022-03-22T17:42:28.531Z"
   },
   {
    "duration": 19,
    "start_time": "2022-03-22T17:42:28.564Z"
   },
   {
    "duration": 68,
    "start_time": "2022-03-22T17:42:28.585Z"
   },
   {
    "duration": 65,
    "start_time": "2022-03-22T17:42:28.655Z"
   },
   {
    "duration": 48,
    "start_time": "2022-03-22T17:42:28.722Z"
   },
   {
    "duration": 815,
    "start_time": "2022-03-22T17:42:28.772Z"
   },
   {
    "duration": 30,
    "start_time": "2022-03-22T17:42:29.590Z"
   },
   {
    "duration": 5,
    "start_time": "2022-03-22T17:42:29.622Z"
   },
   {
    "duration": 4,
    "start_time": "2022-03-22T17:42:29.642Z"
   },
   {
    "duration": 55,
    "start_time": "2022-03-22T17:42:29.648Z"
   },
   {
    "duration": 59,
    "start_time": "2022-03-22T17:42:29.706Z"
   },
   {
    "duration": 56,
    "start_time": "2022-03-22T17:42:29.768Z"
   },
   {
    "duration": 17,
    "start_time": "2022-03-22T17:42:29.828Z"
   },
   {
    "duration": 6,
    "start_time": "2022-03-22T17:42:29.848Z"
   },
   {
    "duration": 7,
    "start_time": "2022-03-22T17:42:29.856Z"
   },
   {
    "duration": 40,
    "start_time": "2022-03-22T17:42:29.865Z"
   },
   {
    "duration": 42,
    "start_time": "2022-03-22T17:42:29.907Z"
   },
   {
    "duration": 15,
    "start_time": "2022-03-22T17:42:29.951Z"
   },
   {
    "duration": 27,
    "start_time": "2022-03-22T17:42:29.968Z"
   },
   {
    "duration": 10,
    "start_time": "2022-03-22T17:42:29.997Z"
   },
   {
    "duration": 39,
    "start_time": "2022-03-22T17:42:30.010Z"
   },
   {
    "duration": 194,
    "start_time": "2022-03-22T17:42:30.051Z"
   },
   {
    "duration": 7,
    "start_time": "2022-03-22T17:42:30.247Z"
   },
   {
    "duration": 34,
    "start_time": "2022-03-22T17:42:30.260Z"
   },
   {
    "duration": 54,
    "start_time": "2022-03-22T17:42:30.297Z"
   },
   {
    "duration": 652,
    "start_time": "2022-03-22T17:42:30.353Z"
   },
   {
    "duration": 37,
    "start_time": "2022-03-22T17:42:31.007Z"
   },
   {
    "duration": 643,
    "start_time": "2022-03-22T17:42:31.046Z"
   },
   {
    "duration": 396,
    "start_time": "2022-03-22T17:42:31.691Z"
   },
   {
    "duration": 21,
    "start_time": "2022-03-22T17:42:32.089Z"
   },
   {
    "duration": 564,
    "start_time": "2022-03-22T17:42:32.112Z"
   },
   {
    "duration": 21,
    "start_time": "2022-03-22T17:42:32.678Z"
   },
   {
    "duration": 627,
    "start_time": "2022-03-22T17:42:32.701Z"
   },
   {
    "duration": 39,
    "start_time": "2022-03-22T17:42:33.330Z"
   },
   {
    "duration": 13,
    "start_time": "2022-03-22T17:42:33.371Z"
   },
   {
    "duration": 22,
    "start_time": "2022-03-22T17:42:33.386Z"
   },
   {
    "duration": 42,
    "start_time": "2022-03-22T17:42:33.410Z"
   },
   {
    "duration": 2115,
    "start_time": "2022-03-22T17:42:33.455Z"
   },
   {
    "duration": 6,
    "start_time": "2022-03-22T17:42:35.572Z"
   },
   {
    "duration": 8,
    "start_time": "2022-03-22T17:45:23.322Z"
   },
   {
    "duration": 43,
    "start_time": "2022-03-22T17:46:11.155Z"
   },
   {
    "duration": 381,
    "start_time": "2022-03-22T17:46:57.332Z"
   },
   {
    "duration": 45,
    "start_time": "2022-03-22T17:47:24.575Z"
   },
   {
    "duration": 322,
    "start_time": "2022-03-22T17:49:25.387Z"
   },
   {
    "duration": 217,
    "start_time": "2022-03-22T17:50:40.789Z"
   },
   {
    "duration": 36,
    "start_time": "2022-03-22T17:50:51.470Z"
   },
   {
    "duration": 36,
    "start_time": "2022-03-22T17:51:03.534Z"
   },
   {
    "duration": 261,
    "start_time": "2022-03-22T17:56:42.835Z"
   },
   {
    "duration": 27,
    "start_time": "2022-03-22T17:59:13.465Z"
   },
   {
    "duration": 1540,
    "start_time": "2022-03-22T18:06:53.703Z"
   },
   {
    "duration": 56,
    "start_time": "2022-03-22T18:06:55.245Z"
   },
   {
    "duration": 16,
    "start_time": "2022-03-22T18:06:55.304Z"
   },
   {
    "duration": 7,
    "start_time": "2022-03-22T18:06:55.323Z"
   },
   {
    "duration": 16,
    "start_time": "2022-03-22T18:06:55.334Z"
   },
   {
    "duration": 11,
    "start_time": "2022-03-22T18:06:55.353Z"
   },
   {
    "duration": 5,
    "start_time": "2022-03-22T18:06:55.366Z"
   },
   {
    "duration": 8,
    "start_time": "2022-03-22T18:06:55.373Z"
   },
   {
    "duration": 11,
    "start_time": "2022-03-22T18:06:55.383Z"
   },
   {
    "duration": 242,
    "start_time": "2022-03-22T18:06:55.397Z"
   },
   {
    "duration": 29,
    "start_time": "2022-03-22T18:06:55.642Z"
   },
   {
    "duration": 37,
    "start_time": "2022-03-22T18:06:55.673Z"
   },
   {
    "duration": 33,
    "start_time": "2022-03-22T18:06:55.712Z"
   },
   {
    "duration": 67,
    "start_time": "2022-03-22T18:06:55.750Z"
   },
   {
    "duration": 167,
    "start_time": "2022-03-22T18:06:55.820Z"
   },
   {
    "duration": 62,
    "start_time": "2022-03-22T18:06:55.989Z"
   },
   {
    "duration": 133,
    "start_time": "2022-03-22T18:06:56.054Z"
   },
   {
    "duration": 24,
    "start_time": "2022-03-22T18:06:56.189Z"
   },
   {
    "duration": 39,
    "start_time": "2022-03-22T18:06:56.216Z"
   },
   {
    "duration": 44,
    "start_time": "2022-03-22T18:06:56.257Z"
   },
   {
    "duration": 92,
    "start_time": "2022-03-22T18:06:56.303Z"
   },
   {
    "duration": 29,
    "start_time": "2022-03-22T18:06:56.397Z"
   },
   {
    "duration": 221,
    "start_time": "2022-03-22T18:06:56.428Z"
   },
   {
    "duration": 31,
    "start_time": "2022-03-22T18:06:56.652Z"
   },
   {
    "duration": 5,
    "start_time": "2022-03-22T18:06:56.685Z"
   },
   {
    "duration": 7,
    "start_time": "2022-03-22T18:06:56.692Z"
   },
   {
    "duration": 90,
    "start_time": "2022-03-22T18:06:56.702Z"
   },
   {
    "duration": 48,
    "start_time": "2022-03-22T18:06:56.795Z"
   },
   {
    "duration": 38,
    "start_time": "2022-03-22T18:06:56.845Z"
   },
   {
    "duration": 16,
    "start_time": "2022-03-22T18:06:56.887Z"
   },
   {
    "duration": 8,
    "start_time": "2022-03-22T18:06:56.905Z"
   },
   {
    "duration": 9,
    "start_time": "2022-03-22T18:06:56.916Z"
   },
   {
    "duration": 42,
    "start_time": "2022-03-22T18:06:56.944Z"
   },
   {
    "duration": 14,
    "start_time": "2022-03-22T18:06:56.988Z"
   },
   {
    "duration": 42,
    "start_time": "2022-03-22T18:06:57.004Z"
   },
   {
    "duration": 26,
    "start_time": "2022-03-22T18:06:57.049Z"
   },
   {
    "duration": 11,
    "start_time": "2022-03-22T18:06:57.077Z"
   },
   {
    "duration": 13,
    "start_time": "2022-03-22T18:06:57.090Z"
   },
   {
    "duration": 219,
    "start_time": "2022-03-22T18:06:57.105Z"
   },
   {
    "duration": 7,
    "start_time": "2022-03-22T18:06:57.326Z"
   },
   {
    "duration": 22,
    "start_time": "2022-03-22T18:06:57.346Z"
   },
   {
    "duration": 45,
    "start_time": "2022-03-22T18:06:57.370Z"
   },
   {
    "duration": 64,
    "start_time": "2022-03-22T18:06:57.418Z"
   },
   {
    "duration": 669,
    "start_time": "2022-03-22T18:06:57.484Z"
   },
   {
    "duration": 23,
    "start_time": "2022-03-22T18:06:58.155Z"
   },
   {
    "duration": 747,
    "start_time": "2022-03-22T18:06:58.180Z"
   },
   {
    "duration": 386,
    "start_time": "2022-03-22T18:06:58.930Z"
   },
   {
    "duration": 34,
    "start_time": "2022-03-22T18:06:59.318Z"
   },
   {
    "duration": 565,
    "start_time": "2022-03-22T18:06:59.355Z"
   },
   {
    "duration": 34,
    "start_time": "2022-03-22T18:06:59.923Z"
   },
   {
    "duration": 630,
    "start_time": "2022-03-22T18:06:59.960Z"
   },
   {
    "duration": 51,
    "start_time": "2022-03-22T18:07:00.592Z"
   },
   {
    "duration": 14,
    "start_time": "2022-03-22T18:07:00.646Z"
   },
   {
    "duration": 37,
    "start_time": "2022-03-22T18:07:00.663Z"
   },
   {
    "duration": 21,
    "start_time": "2022-03-22T18:07:00.703Z"
   },
   {
    "duration": 1897,
    "start_time": "2022-03-22T18:07:00.727Z"
   },
   {
    "duration": 17,
    "start_time": "2022-03-22T18:07:02.626Z"
   },
   {
    "duration": 211,
    "start_time": "2022-03-22T18:08:19.467Z"
   },
   {
    "duration": 7,
    "start_time": "2022-03-24T05:28:33.817Z"
   },
   {
    "duration": 183,
    "start_time": "2022-03-24T22:58:40.739Z"
   },
   {
    "duration": 1124,
    "start_time": "2022-03-24T23:05:33.630Z"
   },
   {
    "duration": 37,
    "start_time": "2022-03-24T23:05:34.756Z"
   },
   {
    "duration": 11,
    "start_time": "2022-03-24T23:05:34.794Z"
   },
   {
    "duration": 5,
    "start_time": "2022-03-24T23:05:34.808Z"
   },
   {
    "duration": 11,
    "start_time": "2022-03-24T23:05:34.814Z"
   },
   {
    "duration": 7,
    "start_time": "2022-03-24T23:05:34.826Z"
   },
   {
    "duration": 4,
    "start_time": "2022-03-24T23:05:34.835Z"
   },
   {
    "duration": 7,
    "start_time": "2022-03-24T23:05:34.841Z"
   },
   {
    "duration": 7,
    "start_time": "2022-03-24T23:05:34.850Z"
   },
   {
    "duration": 152,
    "start_time": "2022-03-24T23:05:34.883Z"
   },
   {
    "duration": 20,
    "start_time": "2022-03-24T23:05:35.037Z"
   },
   {
    "duration": 31,
    "start_time": "2022-03-24T23:05:35.059Z"
   },
   {
    "duration": 4,
    "start_time": "2022-03-24T23:05:35.092Z"
   },
   {
    "duration": 45,
    "start_time": "2022-03-24T23:05:35.098Z"
   },
   {
    "duration": 121,
    "start_time": "2022-03-24T23:05:35.144Z"
   },
   {
    "duration": 47,
    "start_time": "2022-03-24T23:05:35.267Z"
   },
   {
    "duration": 87,
    "start_time": "2022-03-24T23:05:35.315Z"
   },
   {
    "duration": 17,
    "start_time": "2022-03-24T23:05:35.403Z"
   },
   {
    "duration": 13,
    "start_time": "2022-03-24T23:05:35.422Z"
   },
   {
    "duration": 44,
    "start_time": "2022-03-24T23:05:35.437Z"
   },
   {
    "duration": 43,
    "start_time": "2022-03-24T23:05:35.482Z"
   },
   {
    "duration": 19,
    "start_time": "2022-03-24T23:05:35.527Z"
   },
   {
    "duration": 142,
    "start_time": "2022-03-24T23:05:35.547Z"
   },
   {
    "duration": 152,
    "start_time": "2022-03-24T23:05:35.690Z"
   },
   {
    "duration": 14,
    "start_time": "2022-03-24T23:05:35.843Z"
   },
   {
    "duration": 23,
    "start_time": "2022-03-24T23:05:35.858Z"
   },
   {
    "duration": 18,
    "start_time": "2022-03-24T23:05:35.883Z"
   },
   {
    "duration": 4,
    "start_time": "2022-03-24T23:05:35.904Z"
   },
   {
    "duration": 32,
    "start_time": "2022-03-24T23:05:35.909Z"
   },
   {
    "duration": 40,
    "start_time": "2022-03-24T23:05:35.942Z"
   },
   {
    "duration": 19,
    "start_time": "2022-03-24T23:05:35.984Z"
   },
   {
    "duration": 11,
    "start_time": "2022-03-24T23:05:36.004Z"
   },
   {
    "duration": 8,
    "start_time": "2022-03-24T23:05:36.016Z"
   },
   {
    "duration": 7,
    "start_time": "2022-03-24T23:05:36.026Z"
   },
   {
    "duration": 25,
    "start_time": "2022-03-24T23:05:36.035Z"
   },
   {
    "duration": 4,
    "start_time": "2022-03-24T23:05:36.061Z"
   },
   {
    "duration": 18,
    "start_time": "2022-03-24T23:05:36.066Z"
   },
   {
    "duration": 5,
    "start_time": "2022-03-24T23:05:36.085Z"
   },
   {
    "duration": 12,
    "start_time": "2022-03-24T23:05:36.091Z"
   },
   {
    "duration": 16,
    "start_time": "2022-03-24T23:05:36.105Z"
   },
   {
    "duration": 16,
    "start_time": "2022-03-24T23:05:36.123Z"
   },
   {
    "duration": 6,
    "start_time": "2022-03-24T23:05:36.140Z"
   },
   {
    "duration": 6,
    "start_time": "2022-03-24T23:05:36.148Z"
   },
   {
    "duration": 130,
    "start_time": "2022-03-24T23:05:36.156Z"
   },
   {
    "duration": 4,
    "start_time": "2022-03-24T23:05:36.288Z"
   },
   {
    "duration": 16,
    "start_time": "2022-03-24T23:05:36.293Z"
   },
   {
    "duration": 26,
    "start_time": "2022-03-24T23:05:36.310Z"
   },
   {
    "duration": 48,
    "start_time": "2022-03-24T23:05:36.337Z"
   },
   {
    "duration": 349,
    "start_time": "2022-03-24T23:05:36.387Z"
   },
   {
    "duration": 16,
    "start_time": "2022-03-24T23:05:36.737Z"
   },
   {
    "duration": 300,
    "start_time": "2022-03-24T23:05:36.754Z"
   },
   {
    "duration": 189,
    "start_time": "2022-03-24T23:05:37.056Z"
   },
   {
    "duration": 13,
    "start_time": "2022-03-24T23:05:37.247Z"
   },
   {
    "duration": 24,
    "start_time": "2022-03-24T23:05:37.261Z"
   },
   {
    "duration": 344,
    "start_time": "2022-03-24T23:05:37.286Z"
   },
   {
    "duration": 13,
    "start_time": "2022-03-24T23:05:37.632Z"
   },
   {
    "duration": 275,
    "start_time": "2022-03-24T23:05:37.646Z"
   },
   {
    "duration": 20,
    "start_time": "2022-03-24T23:05:37.923Z"
   },
   {
    "duration": 7,
    "start_time": "2022-03-24T23:05:37.945Z"
   },
   {
    "duration": 30,
    "start_time": "2022-03-24T23:05:37.953Z"
   },
   {
    "duration": 10,
    "start_time": "2022-03-24T23:05:37.984Z"
   },
   {
    "duration": 9,
    "start_time": "2022-03-24T23:05:37.996Z"
   },
   {
    "duration": 1068,
    "start_time": "2022-03-24T23:05:38.007Z"
   },
   {
    "duration": 17,
    "start_time": "2022-03-24T23:07:15.284Z"
   },
   {
    "duration": 32,
    "start_time": "2022-03-24T23:09:45.464Z"
   },
   {
    "duration": 9,
    "start_time": "2022-03-24T23:09:52.201Z"
   },
   {
    "duration": 191,
    "start_time": "2022-03-24T23:11:18.636Z"
   },
   {
    "duration": 1216,
    "start_time": "2022-03-24T23:11:50.940Z"
   },
   {
    "duration": 47,
    "start_time": "2022-03-24T23:11:52.158Z"
   },
   {
    "duration": 12,
    "start_time": "2022-03-24T23:11:52.207Z"
   },
   {
    "duration": 5,
    "start_time": "2022-03-24T23:11:52.221Z"
   },
   {
    "duration": 18,
    "start_time": "2022-03-24T23:11:52.228Z"
   },
   {
    "duration": 13,
    "start_time": "2022-03-24T23:11:52.247Z"
   },
   {
    "duration": 10,
    "start_time": "2022-03-24T23:11:52.261Z"
   },
   {
    "duration": 11,
    "start_time": "2022-03-24T23:11:52.272Z"
   },
   {
    "duration": 15,
    "start_time": "2022-03-24T23:11:52.285Z"
   },
   {
    "duration": 164,
    "start_time": "2022-03-24T23:11:52.302Z"
   },
   {
    "duration": 26,
    "start_time": "2022-03-24T23:11:52.468Z"
   },
   {
    "duration": 36,
    "start_time": "2022-03-24T23:11:52.495Z"
   },
   {
    "duration": 3,
    "start_time": "2022-03-24T23:11:52.533Z"
   },
   {
    "duration": 58,
    "start_time": "2022-03-24T23:11:52.538Z"
   },
   {
    "duration": 96,
    "start_time": "2022-03-24T23:11:52.598Z"
   },
   {
    "duration": 31,
    "start_time": "2022-03-24T23:11:52.696Z"
   },
   {
    "duration": 90,
    "start_time": "2022-03-24T23:11:52.729Z"
   },
   {
    "duration": 16,
    "start_time": "2022-03-24T23:11:52.821Z"
   },
   {
    "duration": 12,
    "start_time": "2022-03-24T23:11:52.839Z"
   },
   {
    "duration": 39,
    "start_time": "2022-03-24T23:11:52.853Z"
   },
   {
    "duration": 40,
    "start_time": "2022-03-24T23:11:52.894Z"
   },
   {
    "duration": 17,
    "start_time": "2022-03-24T23:11:52.936Z"
   },
   {
    "duration": 132,
    "start_time": "2022-03-24T23:11:52.954Z"
   },
   {
    "duration": 151,
    "start_time": "2022-03-24T23:11:53.088Z"
   },
   {
    "duration": 13,
    "start_time": "2022-03-24T23:11:53.241Z"
   },
   {
    "duration": 8,
    "start_time": "2022-03-24T23:11:53.256Z"
   },
   {
    "duration": 29,
    "start_time": "2022-03-24T23:11:53.265Z"
   },
   {
    "duration": 3,
    "start_time": "2022-03-24T23:11:53.298Z"
   },
   {
    "duration": 33,
    "start_time": "2022-03-24T23:11:53.302Z"
   },
   {
    "duration": 19,
    "start_time": "2022-03-24T23:11:53.336Z"
   },
   {
    "duration": 28,
    "start_time": "2022-03-24T23:11:53.356Z"
   },
   {
    "duration": 9,
    "start_time": "2022-03-24T23:11:53.385Z"
   },
   {
    "duration": 6,
    "start_time": "2022-03-24T23:11:53.396Z"
   },
   {
    "duration": 5,
    "start_time": "2022-03-24T23:11:53.403Z"
   },
   {
    "duration": 23,
    "start_time": "2022-03-24T23:11:53.410Z"
   },
   {
    "duration": 3,
    "start_time": "2022-03-24T23:11:53.434Z"
   },
   {
    "duration": 7,
    "start_time": "2022-03-24T23:11:53.439Z"
   },
   {
    "duration": 5,
    "start_time": "2022-03-24T23:11:53.447Z"
   },
   {
    "duration": 27,
    "start_time": "2022-03-24T23:11:53.454Z"
   },
   {
    "duration": 7,
    "start_time": "2022-03-24T23:11:53.482Z"
   },
   {
    "duration": 16,
    "start_time": "2022-03-24T23:11:53.490Z"
   },
   {
    "duration": 3,
    "start_time": "2022-03-24T23:11:53.507Z"
   },
   {
    "duration": 8,
    "start_time": "2022-03-24T23:11:53.511Z"
   },
   {
    "duration": 6,
    "start_time": "2022-03-24T23:11:53.520Z"
   },
   {
    "duration": 137,
    "start_time": "2022-03-24T23:11:53.527Z"
   },
   {
    "duration": 4,
    "start_time": "2022-03-24T23:11:53.665Z"
   },
   {
    "duration": 20,
    "start_time": "2022-03-24T23:11:53.670Z"
   },
   {
    "duration": 23,
    "start_time": "2022-03-24T23:11:53.692Z"
   },
   {
    "duration": 22,
    "start_time": "2022-03-24T23:11:53.716Z"
   },
   {
    "duration": 350,
    "start_time": "2022-03-24T23:11:53.739Z"
   },
   {
    "duration": 12,
    "start_time": "2022-03-24T23:11:54.091Z"
   },
   {
    "duration": 290,
    "start_time": "2022-03-24T23:11:54.104Z"
   },
   {
    "duration": 185,
    "start_time": "2022-03-24T23:11:54.396Z"
   },
   {
    "duration": 12,
    "start_time": "2022-03-24T23:11:54.583Z"
   },
   {
    "duration": 8,
    "start_time": "2022-03-24T23:11:54.596Z"
   },
   {
    "duration": 344,
    "start_time": "2022-03-24T23:11:54.605Z"
   },
   {
    "duration": 12,
    "start_time": "2022-03-24T23:11:54.951Z"
   },
   {
    "duration": 261,
    "start_time": "2022-03-24T23:11:54.965Z"
   },
   {
    "duration": 19,
    "start_time": "2022-03-24T23:11:55.227Z"
   },
   {
    "duration": 7,
    "start_time": "2022-03-24T23:11:55.248Z"
   },
   {
    "duration": 25,
    "start_time": "2022-03-24T23:11:55.256Z"
   },
   {
    "duration": 8,
    "start_time": "2022-03-24T23:11:55.283Z"
   },
   {
    "duration": 12,
    "start_time": "2022-03-24T23:11:55.293Z"
   },
   {
    "duration": 1028,
    "start_time": "2022-03-24T23:11:55.306Z"
   },
   {
    "duration": 20,
    "start_time": "2022-03-24T23:12:29.381Z"
   },
   {
    "duration": 5,
    "start_time": "2022-03-24T23:13:45.416Z"
   },
   {
    "duration": 16,
    "start_time": "2022-03-24T23:15:22.756Z"
   },
   {
    "duration": 16,
    "start_time": "2022-03-24T23:16:09.774Z"
   },
   {
    "duration": 11,
    "start_time": "2022-03-24T23:16:20.486Z"
   },
   {
    "duration": 208,
    "start_time": "2022-03-24T23:22:10.836Z"
   },
   {
    "duration": 190,
    "start_time": "2022-03-24T23:22:27.117Z"
   },
   {
    "duration": 201,
    "start_time": "2022-03-24T23:23:11.286Z"
   },
   {
    "duration": 24,
    "start_time": "2022-03-24T23:23:24.558Z"
   },
   {
    "duration": 23,
    "start_time": "2022-03-24T23:24:19.961Z"
   },
   {
    "duration": 24,
    "start_time": "2022-03-24T23:24:32.721Z"
   },
   {
    "duration": 23,
    "start_time": "2022-03-24T23:24:43.369Z"
   },
   {
    "duration": 23,
    "start_time": "2022-03-24T23:25:36.884Z"
   },
   {
    "duration": 24,
    "start_time": "2022-03-24T23:26:04.157Z"
   },
   {
    "duration": 199,
    "start_time": "2022-03-24T23:32:05.881Z"
   },
   {
    "duration": 5,
    "start_time": "2022-03-24T23:34:02.238Z"
   },
   {
    "duration": 1192,
    "start_time": "2022-03-24T23:38:24.359Z"
   },
   {
    "duration": 48,
    "start_time": "2022-03-24T23:38:25.553Z"
   },
   {
    "duration": 10,
    "start_time": "2022-03-24T23:38:25.603Z"
   },
   {
    "duration": 8,
    "start_time": "2022-03-24T23:38:25.615Z"
   },
   {
    "duration": 15,
    "start_time": "2022-03-24T23:38:25.624Z"
   },
   {
    "duration": 13,
    "start_time": "2022-03-24T23:38:25.640Z"
   },
   {
    "duration": 9,
    "start_time": "2022-03-24T23:38:25.654Z"
   },
   {
    "duration": 8,
    "start_time": "2022-03-24T23:38:25.665Z"
   },
   {
    "duration": 26,
    "start_time": "2022-03-24T23:38:25.674Z"
   },
   {
    "duration": 161,
    "start_time": "2022-03-24T23:38:25.702Z"
   },
   {
    "duration": 19,
    "start_time": "2022-03-24T23:38:25.865Z"
   },
   {
    "duration": 21,
    "start_time": "2022-03-24T23:38:25.886Z"
   },
   {
    "duration": 3,
    "start_time": "2022-03-24T23:38:25.909Z"
   },
   {
    "duration": 46,
    "start_time": "2022-03-24T23:38:25.914Z"
   },
   {
    "duration": 121,
    "start_time": "2022-03-24T23:38:25.961Z"
   },
   {
    "duration": 33,
    "start_time": "2022-03-24T23:38:26.083Z"
   },
   {
    "duration": 92,
    "start_time": "2022-03-24T23:38:26.117Z"
   },
   {
    "duration": 16,
    "start_time": "2022-03-24T23:38:26.211Z"
   },
   {
    "duration": 16,
    "start_time": "2022-03-24T23:38:26.228Z"
   },
   {
    "duration": 41,
    "start_time": "2022-03-24T23:38:26.246Z"
   },
   {
    "duration": 46,
    "start_time": "2022-03-24T23:38:26.288Z"
   },
   {
    "duration": 19,
    "start_time": "2022-03-24T23:38:26.335Z"
   },
   {
    "duration": 143,
    "start_time": "2022-03-24T23:38:26.355Z"
   },
   {
    "duration": 156,
    "start_time": "2022-03-24T23:38:26.500Z"
   },
   {
    "duration": 14,
    "start_time": "2022-03-24T23:38:26.657Z"
   },
   {
    "duration": 14,
    "start_time": "2022-03-24T23:38:26.673Z"
   },
   {
    "duration": 19,
    "start_time": "2022-03-24T23:38:26.689Z"
   },
   {
    "duration": 4,
    "start_time": "2022-03-24T23:38:26.712Z"
   },
   {
    "duration": 33,
    "start_time": "2022-03-24T23:38:26.717Z"
   },
   {
    "duration": 40,
    "start_time": "2022-03-24T23:38:26.752Z"
   },
   {
    "duration": 19,
    "start_time": "2022-03-24T23:38:26.794Z"
   },
   {
    "duration": 8,
    "start_time": "2022-03-24T23:38:26.815Z"
   },
   {
    "duration": 8,
    "start_time": "2022-03-24T23:38:26.825Z"
   },
   {
    "duration": 11,
    "start_time": "2022-03-24T23:38:26.834Z"
   },
   {
    "duration": 26,
    "start_time": "2022-03-24T23:38:26.847Z"
   },
   {
    "duration": 9,
    "start_time": "2022-03-24T23:38:26.875Z"
   },
   {
    "duration": 17,
    "start_time": "2022-03-24T23:38:26.886Z"
   },
   {
    "duration": 12,
    "start_time": "2022-03-24T23:38:26.905Z"
   },
   {
    "duration": 5,
    "start_time": "2022-03-24T23:38:26.918Z"
   },
   {
    "duration": 20,
    "start_time": "2022-03-24T23:38:26.925Z"
   },
   {
    "duration": 18,
    "start_time": "2022-03-24T23:38:26.947Z"
   },
   {
    "duration": 19,
    "start_time": "2022-03-24T23:38:26.967Z"
   },
   {
    "duration": 10,
    "start_time": "2022-03-24T23:38:26.987Z"
   },
   {
    "duration": 15,
    "start_time": "2022-03-24T23:38:26.998Z"
   },
   {
    "duration": 7,
    "start_time": "2022-03-24T23:38:27.014Z"
   },
   {
    "duration": 123,
    "start_time": "2022-03-24T23:38:27.022Z"
   },
   {
    "duration": 4,
    "start_time": "2022-03-24T23:38:27.146Z"
   },
   {
    "duration": 15,
    "start_time": "2022-03-24T23:38:27.152Z"
   },
   {
    "duration": 33,
    "start_time": "2022-03-24T23:38:27.168Z"
   },
   {
    "duration": 22,
    "start_time": "2022-03-24T23:38:27.202Z"
   },
   {
    "duration": 188,
    "start_time": "2022-03-24T23:38:27.225Z"
   },
   {
    "duration": 0,
    "start_time": "2022-03-24T23:38:27.415Z"
   },
   {
    "duration": 0,
    "start_time": "2022-03-24T23:38:27.415Z"
   },
   {
    "duration": 1,
    "start_time": "2022-03-24T23:38:27.416Z"
   },
   {
    "duration": 0,
    "start_time": "2022-03-24T23:38:27.418Z"
   },
   {
    "duration": 0,
    "start_time": "2022-03-24T23:38:27.419Z"
   },
   {
    "duration": 0,
    "start_time": "2022-03-24T23:38:27.420Z"
   },
   {
    "duration": 0,
    "start_time": "2022-03-24T23:38:27.422Z"
   },
   {
    "duration": 0,
    "start_time": "2022-03-24T23:38:27.423Z"
   },
   {
    "duration": 0,
    "start_time": "2022-03-24T23:38:27.424Z"
   },
   {
    "duration": 0,
    "start_time": "2022-03-24T23:38:27.425Z"
   },
   {
    "duration": 0,
    "start_time": "2022-03-24T23:38:27.426Z"
   },
   {
    "duration": 0,
    "start_time": "2022-03-24T23:38:27.428Z"
   },
   {
    "duration": 0,
    "start_time": "2022-03-24T23:38:27.429Z"
   },
   {
    "duration": 0,
    "start_time": "2022-03-24T23:38:27.430Z"
   },
   {
    "duration": 0,
    "start_time": "2022-03-24T23:38:27.431Z"
   },
   {
    "duration": 0,
    "start_time": "2022-03-24T23:38:27.433Z"
   },
   {
    "duration": 0,
    "start_time": "2022-03-24T23:38:27.434Z"
   },
   {
    "duration": 1122,
    "start_time": "2022-03-24T23:39:20.133Z"
   },
   {
    "duration": 37,
    "start_time": "2022-03-24T23:39:21.257Z"
   },
   {
    "duration": 10,
    "start_time": "2022-03-24T23:39:21.295Z"
   },
   {
    "duration": 6,
    "start_time": "2022-03-24T23:39:21.307Z"
   },
   {
    "duration": 11,
    "start_time": "2022-03-24T23:39:21.314Z"
   },
   {
    "duration": 7,
    "start_time": "2022-03-24T23:39:21.326Z"
   },
   {
    "duration": 9,
    "start_time": "2022-03-24T23:39:21.334Z"
   },
   {
    "duration": 10,
    "start_time": "2022-03-24T23:39:21.344Z"
   },
   {
    "duration": 9,
    "start_time": "2022-03-24T23:39:21.355Z"
   },
   {
    "duration": 152,
    "start_time": "2022-03-24T23:39:21.382Z"
   },
   {
    "duration": 20,
    "start_time": "2022-03-24T23:39:21.536Z"
   },
   {
    "duration": 37,
    "start_time": "2022-03-24T23:39:21.557Z"
   },
   {
    "duration": 5,
    "start_time": "2022-03-24T23:39:21.595Z"
   },
   {
    "duration": 45,
    "start_time": "2022-03-24T23:39:21.602Z"
   },
   {
    "duration": 117,
    "start_time": "2022-03-24T23:39:21.649Z"
   },
   {
    "duration": 39,
    "start_time": "2022-03-24T23:39:21.768Z"
   },
   {
    "duration": 92,
    "start_time": "2022-03-24T23:39:21.809Z"
   },
   {
    "duration": 17,
    "start_time": "2022-03-24T23:39:21.902Z"
   },
   {
    "duration": 14,
    "start_time": "2022-03-24T23:39:21.920Z"
   },
   {
    "duration": 46,
    "start_time": "2022-03-24T23:39:21.935Z"
   },
   {
    "duration": 41,
    "start_time": "2022-03-24T23:39:21.982Z"
   },
   {
    "duration": 16,
    "start_time": "2022-03-24T23:39:22.025Z"
   },
   {
    "duration": 139,
    "start_time": "2022-03-24T23:39:22.043Z"
   },
   {
    "duration": 151,
    "start_time": "2022-03-24T23:39:22.183Z"
   },
   {
    "duration": 14,
    "start_time": "2022-03-24T23:39:22.336Z"
   },
   {
    "duration": 9,
    "start_time": "2022-03-24T23:39:22.351Z"
   },
   {
    "duration": 36,
    "start_time": "2022-03-24T23:39:22.362Z"
   },
   {
    "duration": 4,
    "start_time": "2022-03-24T23:39:22.401Z"
   },
   {
    "duration": 30,
    "start_time": "2022-03-24T23:39:22.406Z"
   },
   {
    "duration": 19,
    "start_time": "2022-03-24T23:39:22.438Z"
   },
   {
    "duration": 30,
    "start_time": "2022-03-24T23:39:22.458Z"
   },
   {
    "duration": 9,
    "start_time": "2022-03-24T23:39:22.489Z"
   },
   {
    "duration": 6,
    "start_time": "2022-03-24T23:39:22.499Z"
   },
   {
    "duration": 7,
    "start_time": "2022-03-24T23:39:22.506Z"
   },
   {
    "duration": 25,
    "start_time": "2022-03-24T23:39:22.514Z"
   },
   {
    "duration": 4,
    "start_time": "2022-03-24T23:39:22.540Z"
   },
   {
    "duration": 8,
    "start_time": "2022-03-24T23:39:22.545Z"
   },
   {
    "duration": 29,
    "start_time": "2022-03-24T23:39:22.554Z"
   },
   {
    "duration": 6,
    "start_time": "2022-03-24T23:39:22.585Z"
   },
   {
    "duration": 10,
    "start_time": "2022-03-24T23:39:22.592Z"
   },
   {
    "duration": 17,
    "start_time": "2022-03-24T23:39:22.603Z"
   },
   {
    "duration": 16,
    "start_time": "2022-03-24T23:39:22.621Z"
   },
   {
    "duration": 10,
    "start_time": "2022-03-24T23:39:22.638Z"
   },
   {
    "duration": 32,
    "start_time": "2022-03-24T23:39:22.649Z"
   },
   {
    "duration": 6,
    "start_time": "2022-03-24T23:39:22.682Z"
   },
   {
    "duration": 124,
    "start_time": "2022-03-24T23:39:22.689Z"
   },
   {
    "duration": 4,
    "start_time": "2022-03-24T23:39:22.814Z"
   },
   {
    "duration": 14,
    "start_time": "2022-03-24T23:39:22.820Z"
   },
   {
    "duration": 22,
    "start_time": "2022-03-24T23:39:22.836Z"
   },
   {
    "duration": 40,
    "start_time": "2022-03-24T23:39:22.859Z"
   },
   {
    "duration": 23,
    "start_time": "2022-03-24T23:39:22.901Z"
   },
   {
    "duration": 349,
    "start_time": "2022-03-24T23:39:22.925Z"
   },
   {
    "duration": 13,
    "start_time": "2022-03-24T23:39:23.280Z"
   },
   {
    "duration": 295,
    "start_time": "2022-03-24T23:39:23.295Z"
   },
   {
    "duration": 198,
    "start_time": "2022-03-24T23:39:23.592Z"
   },
   {
    "duration": 13,
    "start_time": "2022-03-24T23:39:23.792Z"
   },
   {
    "duration": 9,
    "start_time": "2022-03-24T23:39:23.807Z"
   },
   {
    "duration": 355,
    "start_time": "2022-03-24T23:39:23.818Z"
   },
   {
    "duration": 16,
    "start_time": "2022-03-24T23:39:24.175Z"
   },
   {
    "duration": 261,
    "start_time": "2022-03-24T23:39:24.193Z"
   },
   {
    "duration": 28,
    "start_time": "2022-03-24T23:39:24.456Z"
   },
   {
    "duration": 8,
    "start_time": "2022-03-24T23:39:24.486Z"
   },
   {
    "duration": 22,
    "start_time": "2022-03-24T23:39:24.496Z"
   },
   {
    "duration": 15,
    "start_time": "2022-03-24T23:39:24.520Z"
   },
   {
    "duration": 9,
    "start_time": "2022-03-24T23:39:24.537Z"
   },
   {
    "duration": 19,
    "start_time": "2022-03-24T23:39:24.547Z"
   },
   {
    "duration": 1059,
    "start_time": "2022-03-24T23:39:24.567Z"
   },
   {
    "duration": 1544,
    "start_time": "2022-03-25T21:26:44.293Z"
   },
   {
    "duration": 56,
    "start_time": "2022-03-25T21:26:45.843Z"
   },
   {
    "duration": 15,
    "start_time": "2022-03-25T21:26:45.901Z"
   },
   {
    "duration": 8,
    "start_time": "2022-03-25T21:26:45.918Z"
   },
   {
    "duration": 18,
    "start_time": "2022-03-25T21:26:45.929Z"
   },
   {
    "duration": 15,
    "start_time": "2022-03-25T21:26:45.949Z"
   },
   {
    "duration": 7,
    "start_time": "2022-03-25T21:26:45.966Z"
   },
   {
    "duration": 10,
    "start_time": "2022-03-25T21:26:45.976Z"
   },
   {
    "duration": 11,
    "start_time": "2022-03-25T21:26:45.988Z"
   },
   {
    "duration": 244,
    "start_time": "2022-03-25T21:26:46.001Z"
   },
   {
    "duration": 32,
    "start_time": "2022-03-25T21:26:46.248Z"
   },
   {
    "duration": 64,
    "start_time": "2022-03-25T21:26:46.283Z"
   },
   {
    "duration": 7,
    "start_time": "2022-03-25T21:26:46.353Z"
   },
   {
    "duration": 83,
    "start_time": "2022-03-25T21:26:46.365Z"
   },
   {
    "duration": 155,
    "start_time": "2022-03-25T21:26:46.456Z"
   },
   {
    "duration": 60,
    "start_time": "2022-03-25T21:26:46.614Z"
   },
   {
    "duration": 123,
    "start_time": "2022-03-25T21:26:46.677Z"
   },
   {
    "duration": 26,
    "start_time": "2022-03-25T21:26:46.802Z"
   },
   {
    "duration": 38,
    "start_time": "2022-03-25T21:26:46.830Z"
   },
   {
    "duration": 43,
    "start_time": "2022-03-25T21:26:46.870Z"
   },
   {
    "duration": 98,
    "start_time": "2022-03-25T21:26:46.915Z"
   },
   {
    "duration": 54,
    "start_time": "2022-03-25T21:26:47.016Z"
   },
   {
    "duration": 185,
    "start_time": "2022-03-25T21:26:47.072Z"
   },
   {
    "duration": 342,
    "start_time": "2022-03-25T21:26:47.260Z"
   },
   {
    "duration": 19,
    "start_time": "2022-03-25T21:26:47.604Z"
   },
   {
    "duration": 14,
    "start_time": "2022-03-25T21:26:47.650Z"
   },
   {
    "duration": 27,
    "start_time": "2022-03-25T21:26:47.668Z"
   },
   {
    "duration": 5,
    "start_time": "2022-03-25T21:26:47.698Z"
   },
   {
    "duration": 83,
    "start_time": "2022-03-25T21:26:47.705Z"
   },
   {
    "duration": 26,
    "start_time": "2022-03-25T21:26:47.790Z"
   },
   {
    "duration": 26,
    "start_time": "2022-03-25T21:26:47.818Z"
   },
   {
    "duration": 18,
    "start_time": "2022-03-25T21:26:47.846Z"
   },
   {
    "duration": 7,
    "start_time": "2022-03-25T21:26:47.866Z"
   },
   {
    "duration": 6,
    "start_time": "2022-03-25T21:26:47.876Z"
   },
   {
    "duration": 71,
    "start_time": "2022-03-25T21:26:47.884Z"
   },
   {
    "duration": 5,
    "start_time": "2022-03-25T21:26:47.960Z"
   },
   {
    "duration": 10,
    "start_time": "2022-03-25T21:26:47.967Z"
   },
   {
    "duration": 8,
    "start_time": "2022-03-25T21:26:47.979Z"
   },
   {
    "duration": 5,
    "start_time": "2022-03-25T21:26:47.989Z"
   },
   {
    "duration": 47,
    "start_time": "2022-03-25T21:26:47.996Z"
   },
   {
    "duration": 19,
    "start_time": "2022-03-25T21:26:48.056Z"
   },
   {
    "duration": 9,
    "start_time": "2022-03-25T21:26:48.077Z"
   },
   {
    "duration": 7,
    "start_time": "2022-03-25T21:26:48.088Z"
   },
   {
    "duration": 213,
    "start_time": "2022-03-25T21:26:48.097Z"
   },
   {
    "duration": 6,
    "start_time": "2022-03-25T21:26:48.312Z"
   },
   {
    "duration": 43,
    "start_time": "2022-03-25T21:26:48.321Z"
   },
   {
    "duration": 39,
    "start_time": "2022-03-25T21:26:48.366Z"
   },
   {
    "duration": 69,
    "start_time": "2022-03-25T21:26:48.408Z"
   },
   {
    "duration": 638,
    "start_time": "2022-03-25T21:26:48.479Z"
   },
   {
    "duration": 29,
    "start_time": "2022-03-25T21:26:49.120Z"
   },
   {
    "duration": 830,
    "start_time": "2022-03-25T21:26:49.155Z"
   },
   {
    "duration": 391,
    "start_time": "2022-03-25T21:26:49.988Z"
   },
   {
    "duration": 24,
    "start_time": "2022-03-25T21:26:50.382Z"
   },
   {
    "duration": 46,
    "start_time": "2022-03-25T21:26:50.408Z"
   },
   {
    "duration": 610,
    "start_time": "2022-03-25T21:26:50.457Z"
   },
   {
    "duration": 21,
    "start_time": "2022-03-25T21:26:51.070Z"
   },
   {
    "duration": 508,
    "start_time": "2022-03-25T21:26:51.093Z"
   },
   {
    "duration": 51,
    "start_time": "2022-03-25T21:26:51.604Z"
   },
   {
    "duration": 28,
    "start_time": "2022-03-25T21:26:51.658Z"
   },
   {
    "duration": 10,
    "start_time": "2022-03-25T21:26:51.689Z"
   },
   {
    "duration": 57,
    "start_time": "2022-03-25T21:26:51.702Z"
   },
   {
    "duration": 19,
    "start_time": "2022-03-25T21:26:51.763Z"
   },
   {
    "duration": 9,
    "start_time": "2022-03-25T21:26:51.785Z"
   },
   {
    "duration": 1870,
    "start_time": "2022-03-25T21:26:51.796Z"
   },
   {
    "duration": 45,
    "start_time": "2022-03-25T21:33:03.440Z"
   },
   {
    "duration": 32,
    "start_time": "2022-03-25T21:33:22.883Z"
   },
   {
    "duration": 23,
    "start_time": "2022-03-25T21:33:26.417Z"
   },
   {
    "duration": 6,
    "start_time": "2022-03-25T21:56:42.725Z"
   },
   {
    "duration": 259,
    "start_time": "2022-03-25T21:57:12.404Z"
   },
   {
    "duration": 4,
    "start_time": "2022-03-25T21:57:30.821Z"
   },
   {
    "duration": 25,
    "start_time": "2022-03-25T21:57:33.292Z"
   },
   {
    "duration": 268,
    "start_time": "2022-03-25T21:57:44.391Z"
   },
   {
    "duration": 274,
    "start_time": "2022-03-25T21:57:56.319Z"
   },
   {
    "duration": 257,
    "start_time": "2022-03-25T21:58:09.015Z"
   },
   {
    "duration": 370,
    "start_time": "2022-03-25T21:58:12.854Z"
   },
   {
    "duration": 343,
    "start_time": "2022-03-25T21:58:38.313Z"
   },
   {
    "duration": 269,
    "start_time": "2022-03-25T21:58:58.722Z"
   },
   {
    "duration": 77,
    "start_time": "2022-03-25T21:59:01.673Z"
   },
   {
    "duration": 1462,
    "start_time": "2022-03-25T22:00:09.518Z"
   },
   {
    "duration": 1962,
    "start_time": "2022-03-25T22:00:27.461Z"
   },
   {
    "duration": 57,
    "start_time": "2022-03-25T22:00:29.427Z"
   },
   {
    "duration": 16,
    "start_time": "2022-03-25T22:00:29.486Z"
   },
   {
    "duration": 10,
    "start_time": "2022-03-25T22:00:29.505Z"
   },
   {
    "duration": 18,
    "start_time": "2022-03-25T22:00:29.517Z"
   },
   {
    "duration": 13,
    "start_time": "2022-03-25T22:00:29.538Z"
   },
   {
    "duration": 7,
    "start_time": "2022-03-25T22:00:29.553Z"
   },
   {
    "duration": 8,
    "start_time": "2022-03-25T22:00:29.562Z"
   },
   {
    "duration": 9,
    "start_time": "2022-03-25T22:00:29.572Z"
   },
   {
    "duration": 234,
    "start_time": "2022-03-25T22:00:29.585Z"
   },
   {
    "duration": 38,
    "start_time": "2022-03-25T22:00:29.822Z"
   },
   {
    "duration": 35,
    "start_time": "2022-03-25T22:00:29.862Z"
   },
   {
    "duration": 7,
    "start_time": "2022-03-25T22:00:29.899Z"
   },
   {
    "duration": 108,
    "start_time": "2022-03-25T22:00:29.908Z"
   },
   {
    "duration": 179,
    "start_time": "2022-03-25T22:00:30.018Z"
   },
   {
    "duration": 63,
    "start_time": "2022-03-25T22:00:30.200Z"
   },
   {
    "duration": 121,
    "start_time": "2022-03-25T22:00:30.265Z"
   },
   {
    "duration": 27,
    "start_time": "2022-03-25T22:00:30.388Z"
   },
   {
    "duration": 31,
    "start_time": "2022-03-25T22:00:30.417Z"
   },
   {
    "duration": 44,
    "start_time": "2022-03-25T22:00:30.450Z"
   },
   {
    "duration": 95,
    "start_time": "2022-03-25T22:00:30.496Z"
   },
   {
    "duration": 29,
    "start_time": "2022-03-25T22:00:30.593Z"
   },
   {
    "duration": 210,
    "start_time": "2022-03-25T22:00:30.625Z"
   },
   {
    "duration": 410,
    "start_time": "2022-03-25T22:00:30.842Z"
   },
   {
    "duration": 20,
    "start_time": "2022-03-25T22:00:31.254Z"
   },
   {
    "duration": 15,
    "start_time": "2022-03-25T22:00:31.276Z"
   },
   {
    "duration": 62,
    "start_time": "2022-03-25T22:00:31.293Z"
   },
   {
    "duration": 11,
    "start_time": "2022-03-25T22:00:31.362Z"
   },
   {
    "duration": 53,
    "start_time": "2022-03-25T22:00:31.375Z"
   },
   {
    "duration": 36,
    "start_time": "2022-03-25T22:00:31.431Z"
   },
   {
    "duration": 25,
    "start_time": "2022-03-25T22:00:31.469Z"
   },
   {
    "duration": 15,
    "start_time": "2022-03-25T22:00:31.497Z"
   },
   {
    "duration": 5,
    "start_time": "2022-03-25T22:00:31.542Z"
   },
   {
    "duration": 7,
    "start_time": "2022-03-25T22:00:31.550Z"
   },
   {
    "duration": 54,
    "start_time": "2022-03-25T22:00:31.560Z"
   },
   {
    "duration": 28,
    "start_time": "2022-03-25T22:00:31.617Z"
   },
   {
    "duration": 12,
    "start_time": "2022-03-25T22:00:31.648Z"
   },
   {
    "duration": 10,
    "start_time": "2022-03-25T22:00:31.662Z"
   },
   {
    "duration": 10,
    "start_time": "2022-03-25T22:00:31.674Z"
   },
   {
    "duration": 57,
    "start_time": "2022-03-25T22:00:31.686Z"
   },
   {
    "duration": 244,
    "start_time": "2022-03-25T22:00:31.746Z"
   },
   {
    "duration": 0,
    "start_time": "2022-03-25T22:00:31.993Z"
   },
   {
    "duration": 0,
    "start_time": "2022-03-25T22:00:31.995Z"
   },
   {
    "duration": 0,
    "start_time": "2022-03-25T22:00:31.997Z"
   },
   {
    "duration": 0,
    "start_time": "2022-03-25T22:00:31.999Z"
   },
   {
    "duration": 0,
    "start_time": "2022-03-25T22:00:32.001Z"
   },
   {
    "duration": 0,
    "start_time": "2022-03-25T22:00:32.003Z"
   },
   {
    "duration": 0,
    "start_time": "2022-03-25T22:00:32.005Z"
   },
   {
    "duration": 0,
    "start_time": "2022-03-25T22:00:32.007Z"
   },
   {
    "duration": 0,
    "start_time": "2022-03-25T22:00:32.009Z"
   },
   {
    "duration": 0,
    "start_time": "2022-03-25T22:00:32.011Z"
   },
   {
    "duration": 0,
    "start_time": "2022-03-25T22:00:32.044Z"
   },
   {
    "duration": 0,
    "start_time": "2022-03-25T22:00:32.046Z"
   },
   {
    "duration": 0,
    "start_time": "2022-03-25T22:00:32.048Z"
   },
   {
    "duration": 1,
    "start_time": "2022-03-25T22:00:32.049Z"
   },
   {
    "duration": 0,
    "start_time": "2022-03-25T22:00:32.051Z"
   },
   {
    "duration": 0,
    "start_time": "2022-03-25T22:00:32.053Z"
   },
   {
    "duration": 0,
    "start_time": "2022-03-25T22:00:32.055Z"
   },
   {
    "duration": 0,
    "start_time": "2022-03-25T22:00:32.057Z"
   },
   {
    "duration": 0,
    "start_time": "2022-03-25T22:00:32.059Z"
   },
   {
    "duration": 0,
    "start_time": "2022-03-25T22:00:32.061Z"
   },
   {
    "duration": 0,
    "start_time": "2022-03-25T22:00:32.063Z"
   },
   {
    "duration": 0,
    "start_time": "2022-03-25T22:00:32.065Z"
   },
   {
    "duration": 0,
    "start_time": "2022-03-25T22:00:32.068Z"
   },
   {
    "duration": 0,
    "start_time": "2022-03-25T22:00:32.069Z"
   },
   {
    "duration": 0,
    "start_time": "2022-03-25T22:00:32.071Z"
   },
   {
    "duration": 0,
    "start_time": "2022-03-25T22:00:32.072Z"
   },
   {
    "duration": 0,
    "start_time": "2022-03-25T22:00:32.074Z"
   },
   {
    "duration": 0,
    "start_time": "2022-03-25T22:00:32.076Z"
   },
   {
    "duration": 0,
    "start_time": "2022-03-25T22:00:32.078Z"
   },
   {
    "duration": 0,
    "start_time": "2022-03-25T22:00:32.080Z"
   },
   {
    "duration": 0,
    "start_time": "2022-03-25T22:00:32.081Z"
   },
   {
    "duration": 20,
    "start_time": "2022-03-25T22:01:36.962Z"
   },
   {
    "duration": 20,
    "start_time": "2022-03-25T22:01:42.713Z"
   },
   {
    "duration": 1538,
    "start_time": "2022-03-25T22:01:52.733Z"
   },
   {
    "duration": 74,
    "start_time": "2022-03-25T22:01:54.274Z"
   },
   {
    "duration": 16,
    "start_time": "2022-03-25T22:01:54.350Z"
   },
   {
    "duration": 7,
    "start_time": "2022-03-25T22:01:54.368Z"
   },
   {
    "duration": 19,
    "start_time": "2022-03-25T22:01:54.378Z"
   },
   {
    "duration": 8,
    "start_time": "2022-03-25T22:01:54.399Z"
   },
   {
    "duration": 38,
    "start_time": "2022-03-25T22:01:54.409Z"
   },
   {
    "duration": 9,
    "start_time": "2022-03-25T22:01:54.449Z"
   },
   {
    "duration": 9,
    "start_time": "2022-03-25T22:01:54.460Z"
   },
   {
    "duration": 234,
    "start_time": "2022-03-25T22:01:54.471Z"
   },
   {
    "duration": 37,
    "start_time": "2022-03-25T22:01:54.707Z"
   },
   {
    "duration": 33,
    "start_time": "2022-03-25T22:01:54.746Z"
   },
   {
    "duration": 6,
    "start_time": "2022-03-25T22:01:54.781Z"
   },
   {
    "duration": 104,
    "start_time": "2022-03-25T22:01:54.791Z"
   },
   {
    "duration": 168,
    "start_time": "2022-03-25T22:01:54.897Z"
   },
   {
    "duration": 50,
    "start_time": "2022-03-25T22:01:55.067Z"
   },
   {
    "duration": 124,
    "start_time": "2022-03-25T22:01:55.119Z"
   },
   {
    "duration": 30,
    "start_time": "2022-03-25T22:01:55.245Z"
   },
   {
    "duration": 33,
    "start_time": "2022-03-25T22:01:55.277Z"
   },
   {
    "duration": 71,
    "start_time": "2022-03-25T22:01:55.313Z"
   },
   {
    "duration": 91,
    "start_time": "2022-03-25T22:01:55.387Z"
   },
   {
    "duration": 28,
    "start_time": "2022-03-25T22:01:55.480Z"
   },
   {
    "duration": 199,
    "start_time": "2022-03-25T22:01:55.511Z"
   },
   {
    "duration": 283,
    "start_time": "2022-03-25T22:01:55.713Z"
   },
   {
    "duration": 24,
    "start_time": "2022-03-25T22:01:55.998Z"
   },
   {
    "duration": 32,
    "start_time": "2022-03-25T22:01:56.025Z"
   },
   {
    "duration": 28,
    "start_time": "2022-03-25T22:01:56.060Z"
   },
   {
    "duration": 5,
    "start_time": "2022-03-25T22:01:56.090Z"
   },
   {
    "duration": 82,
    "start_time": "2022-03-25T22:01:56.098Z"
   },
   {
    "duration": 29,
    "start_time": "2022-03-25T22:01:56.182Z"
   },
   {
    "duration": 38,
    "start_time": "2022-03-25T22:01:56.213Z"
   },
   {
    "duration": 15,
    "start_time": "2022-03-25T22:01:56.254Z"
   },
   {
    "duration": 7,
    "start_time": "2022-03-25T22:01:56.272Z"
   },
   {
    "duration": 8,
    "start_time": "2022-03-25T22:01:56.281Z"
   },
   {
    "duration": 73,
    "start_time": "2022-03-25T22:01:56.291Z"
   },
   {
    "duration": 6,
    "start_time": "2022-03-25T22:01:56.366Z"
   },
   {
    "duration": 13,
    "start_time": "2022-03-25T22:01:56.374Z"
   },
   {
    "duration": 8,
    "start_time": "2022-03-25T22:01:56.389Z"
   },
   {
    "duration": 6,
    "start_time": "2022-03-25T22:01:56.399Z"
   },
   {
    "duration": 46,
    "start_time": "2022-03-25T22:01:56.407Z"
   },
   {
    "duration": 20,
    "start_time": "2022-03-25T22:01:56.459Z"
   },
   {
    "duration": 19,
    "start_time": "2022-03-25T22:01:56.481Z"
   },
   {
    "duration": 41,
    "start_time": "2022-03-25T22:01:56.502Z"
   },
   {
    "duration": 6,
    "start_time": "2022-03-25T22:01:56.546Z"
   },
   {
    "duration": 172,
    "start_time": "2022-03-25T22:01:56.555Z"
   },
   {
    "duration": 6,
    "start_time": "2022-03-25T22:01:56.729Z"
   },
   {
    "duration": 25,
    "start_time": "2022-03-25T22:01:56.742Z"
   },
   {
    "duration": 40,
    "start_time": "2022-03-25T22:01:56.769Z"
   },
   {
    "duration": 69,
    "start_time": "2022-03-25T22:01:56.811Z"
   },
   {
    "duration": 635,
    "start_time": "2022-03-25T22:01:56.882Z"
   },
   {
    "duration": 33,
    "start_time": "2022-03-25T22:01:57.519Z"
   },
   {
    "duration": 841,
    "start_time": "2022-03-25T22:01:57.555Z"
   },
   {
    "duration": 358,
    "start_time": "2022-03-25T22:01:58.399Z"
   },
   {
    "duration": 23,
    "start_time": "2022-03-25T22:01:58.759Z"
   },
   {
    "duration": 14,
    "start_time": "2022-03-25T22:01:58.784Z"
   },
   {
    "duration": 620,
    "start_time": "2022-03-25T22:01:58.800Z"
   },
   {
    "duration": 25,
    "start_time": "2022-03-25T22:01:59.423Z"
   },
   {
    "duration": 473,
    "start_time": "2022-03-25T22:01:59.450Z"
   },
   {
    "duration": 38,
    "start_time": "2022-03-25T22:01:59.925Z"
   },
   {
    "duration": 20,
    "start_time": "2022-03-25T22:01:59.965Z"
   },
   {
    "duration": 11,
    "start_time": "2022-03-25T22:01:59.988Z"
   },
   {
    "duration": 50,
    "start_time": "2022-03-25T22:02:00.001Z"
   },
   {
    "duration": 27,
    "start_time": "2022-03-25T22:02:00.053Z"
   },
   {
    "duration": 12,
    "start_time": "2022-03-25T22:02:00.082Z"
   },
   {
    "duration": 1847,
    "start_time": "2022-03-25T22:02:00.096Z"
   },
   {
    "duration": 3,
    "start_time": "2022-03-25T22:02:01.945Z"
   },
   {
    "duration": 294,
    "start_time": "2022-03-25T22:02:01.951Z"
   },
   {
    "duration": 276,
    "start_time": "2022-03-25T22:02:02.248Z"
   },
   {
    "duration": 298,
    "start_time": "2022-03-25T22:02:02.526Z"
   },
   {
    "duration": 63,
    "start_time": "2022-03-25T22:02:02.826Z"
   },
   {
    "duration": 7,
    "start_time": "2022-03-25T22:02:02.892Z"
   },
   {
    "duration": 1886,
    "start_time": "2022-03-25T22:02:02.902Z"
   }
  ],
  "kernelspec": {
   "display_name": "Python 3 (ipykernel)",
   "language": "python",
   "name": "python3"
  },
  "language_info": {
   "codemirror_mode": {
    "name": "ipython",
    "version": 3
   },
   "file_extension": ".py",
   "mimetype": "text/x-python",
   "name": "python",
   "nbconvert_exporter": "python",
   "pygments_lexer": "ipython3",
   "version": "3.9.7"
  },
  "toc": {
   "base_numbering": 1,
   "nav_menu": {
    "height": "254px",
    "width": "355px"
   },
   "number_sections": true,
   "sideBar": true,
   "skip_h1_title": true,
   "title_cell": "Table of Contents",
   "title_sidebar": "Contents",
   "toc_cell": false,
   "toc_position": {},
   "toc_section_display": true,
   "toc_window_display": false
  }
 },
 "nbformat": 4,
 "nbformat_minor": 5
}
